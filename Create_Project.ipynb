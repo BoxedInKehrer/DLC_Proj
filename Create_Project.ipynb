{
 "cells": [
  {
   "cell_type": "code",
   "execution_count": 1,
   "metadata": {},
   "outputs": [
    {
     "name": "stderr",
     "output_type": "stream",
     "text": [
      "2024-07-05 17:03:28.581333: I tensorflow/core/util/port.cc:110] oneDNN custom operations are on. You may see slightly different numerical results due to floating-point round-off errors from different computation orders. To turn them off, set the environment variable `TF_ENABLE_ONEDNN_OPTS=0`.\n",
      "2024-07-05 17:03:28.610459: I tensorflow/core/platform/cpu_feature_guard.cc:182] This TensorFlow binary is optimized to use available CPU instructions in performance-critical operations.\n",
      "To enable the following instructions: AVX2 AVX512F AVX512_VNNI FMA, in other operations, rebuild TensorFlow with the appropriate compiler flags.\n"
     ]
    },
    {
     "name": "stdout",
     "output_type": "stream",
     "text": [
      "Loading DLC 2.3.9...\n",
      "TensorFlow version: 2.12.0\n",
      "CUDA version: 11.8\n",
      "cuDNN version: 8\n",
      "Num GPUs Available:  1\n",
      "tensorrt version: 10.0.1\n"
     ]
    },
    {
     "name": "stderr",
     "output_type": "stream",
     "text": [
      "2024-07-05 17:03:31.278797: I tensorflow/compiler/xla/stream_executor/cuda/cuda_gpu_executor.cc:982] could not open file to read NUMA node: /sys/bus/pci/devices/0000:02:00.0/numa_node\n",
      "Your kernel may have been built without NUMA support.\n",
      "2024-07-05 17:03:31.315057: I tensorflow/compiler/xla/stream_executor/cuda/cuda_gpu_executor.cc:982] could not open file to read NUMA node: /sys/bus/pci/devices/0000:02:00.0/numa_node\n",
      "Your kernel may have been built without NUMA support.\n",
      "2024-07-05 17:03:31.315086: I tensorflow/compiler/xla/stream_executor/cuda/cuda_gpu_executor.cc:982] could not open file to read NUMA node: /sys/bus/pci/devices/0000:02:00.0/numa_node\n",
      "Your kernel may have been built without NUMA support.\n"
     ]
    }
   ],
   "source": [
    "import deeplabcut\n",
    "import tensorflow as tf\n",
    "import tensorrt as trt\n",
    "\n",
    "print(\"TensorFlow version:\", tf.__version__)\n",
    "print(\"CUDA version:\", tf.sysconfig.get_build_info()[\"cuda_version\"])\n",
    "print(\"cuDNN version:\", tf.sysconfig.get_build_info()[\"cudnn_version\"])\n",
    "print(\"Num GPUs Available: \", len(tf.config.list_physical_devices('GPU')))\n",
    "print(\"tensorrt version:\", trt.__version__)"
   ]
  },
  {
   "cell_type": "code",
   "execution_count": 2,
   "metadata": {},
   "outputs": [
    {
     "name": "stdout",
     "output_type": "stream",
     "text": [
      "Created \"/home/box/coding/CTIR/Moused_2-David-2024-07-05/videos\"\n",
      "Created \"/home/box/coding/CTIR/Moused_2-David-2024-07-05/labeled-data\"\n",
      "Created \"/home/box/coding/CTIR/Moused_2-David-2024-07-05/training-datasets\"\n",
      "Created \"/home/box/coding/CTIR/Moused_2-David-2024-07-05/dlc-models\"\n",
      "Attempting to create a symbolic link of the video ...\n",
      "Created the symlink of /home/box/coding/CTIR/videos/experiment_1/E1_front.avi to /home/box/coding/CTIR/Moused_2-David-2024-07-05/videos/E1_front.avi\n",
      "Created the symlink of /home/box/coding/CTIR/videos/experiment_1/E1_side.avi to /home/box/coding/CTIR/Moused_2-David-2024-07-05/videos/E1_side.avi\n",
      "Created the symlink of /home/box/coding/CTIR/videos/experiment_1/E1_top.avi to /home/box/coding/CTIR/Moused_2-David-2024-07-05/videos/E1_top.avi\n",
      "Created the symlink of /home/box/coding/CTIR/videos/experiment_2/E2_front.avi to /home/box/coding/CTIR/Moused_2-David-2024-07-05/videos/E2_front.avi\n",
      "Created the symlink of /home/box/coding/CTIR/videos/experiment_2/E2_side.avi to /home/box/coding/CTIR/Moused_2-David-2024-07-05/videos/E2_side.avi\n",
      "Created the symlink of /home/box/coding/CTIR/videos/experiment_2/E2_top.avi to /home/box/coding/CTIR/Moused_2-David-2024-07-05/videos/E2_top.avi\n",
      "/home/box/coding/CTIR/Moused_2-David-2024-07-05/videos/E1_front.avi\n",
      "/home/box/coding/CTIR/Moused_2-David-2024-07-05/videos/E1_side.avi\n",
      "/home/box/coding/CTIR/Moused_2-David-2024-07-05/videos/E1_top.avi\n",
      "/home/box/coding/CTIR/Moused_2-David-2024-07-05/videos/E2_front.avi\n",
      "/home/box/coding/CTIR/Moused_2-David-2024-07-05/videos/E2_side.avi\n",
      "/home/box/coding/CTIR/Moused_2-David-2024-07-05/videos/E2_top.avi\n",
      "Generated \"/home/box/coding/CTIR/Moused_2-David-2024-07-05/config.yaml\"\n",
      "\n",
      "A new project with name Moused_2-David-2024-07-05 is created at /home/box/coding/CTIR and a configurable file (config.yaml) is stored there. Change the parameters in this file to adapt to your project's needs.\n",
      " Once you have changed the configuration file, use the function 'extract_frames' to select frames for labeling.\n",
      ". [OPTIONAL] Use the function 'add_new_videos' to add new videos to your project (at any stage).\n"
     ]
    },
    {
     "data": {
      "text/plain": [
       "'/home/box/coding/CTIR/Moused_2-David-2024-07-05/config.yaml'"
      ]
     },
     "execution_count": 2,
     "metadata": {},
     "output_type": "execute_result"
    }
   ],
   "source": [
    "# only using experiment ONE to see how strongly it generalizes\n",
    "deeplabcut.create_new_project('Moused_2', 'David', ['/home/box/coding/CTIR/videos/experiment_1/E1_front.avi', '/home/box/coding/CTIR/videos/experiment_1/E1_side.avi', '/home/box/coding/CTIR/videos/experiment_1/E1_top.avi',\n",
    "                                                '/home/box/coding/CTIR/videos/experiment_2/E2_front.avi','/home/box/coding/CTIR/videos/experiment_2/E2_side.avi','/home/box/coding/CTIR/videos/experiment_2/E2_top.avi'])"
   ]
  },
  {
   "cell_type": "code",
   "execution_count": 2,
   "metadata": {},
   "outputs": [],
   "source": [
    "config_path = '/home/box/coding/CTIR/Moused_2-David-2024-07-05/config.yaml'"
   ]
  },
  {
   "cell_type": "code",
   "execution_count": 5,
   "metadata": {},
   "outputs": [
    {
     "name": "stdout",
     "output_type": "stream",
     "text": [
      "Config file read successfully.\n",
      "Extracting frames based on uniform ...\n",
      "Uniformly extracting of frames from 0.0  seconds to 555.0  seconds.\n",
      "Extracting frames based on uniform ...\n",
      "Uniformly extracting of frames from 0.0  seconds to 555.0  seconds.\n",
      "Extracting frames based on uniform ...\n",
      "Uniformly extracting of frames from 0.0  seconds to 555.0  seconds.\n",
      "Extracting frames based on uniform ...\n",
      "Uniformly extracting of frames from 0.0  seconds to 645.0  seconds.\n",
      "Extracting frames based on uniform ...\n",
      "Uniformly extracting of frames from 0.0  seconds to 645.0  seconds.\n",
      "Extracting frames based on uniform ...\n",
      "Uniformly extracting of frames from 0.0  seconds to 645.0  seconds.\n",
      "Frames were successfully extracted, for the videos listed in the config.yaml file.\n",
      "\n",
      "You can now label the frames using the function 'label_frames' (Note, you should label frames extracted from diverse videos (and many videos; we do not recommend training on single videos!)).\n"
     ]
    }
   ],
   "source": [
    "deeplabcut.extract_frames(config_path, algo='uniform', userfeedback=False)"
   ]
  },
  {
   "cell_type": "code",
   "execution_count": 3,
   "metadata": {},
   "outputs": [
    {
     "name": "stdout",
     "output_type": "stream",
     "text": [
      "Do you want to convert the csv file in folder: /home/box/coding/CTIR/Moused_2-David-2024-07-05/labeled-data/E1_front ?\n"
     ]
    },
    {
     "name": "stdout",
     "output_type": "stream",
     "text": [
      "Do you want to convert the csv file in folder: /home/box/coding/CTIR/Moused_2-David-2024-07-05/labeled-data/E1_side ?\n",
      "Do you want to convert the csv file in folder: /home/box/coding/CTIR/Moused_2-David-2024-07-05/labeled-data/E1_top ?\n",
      "Do you want to convert the csv file in folder: /home/box/coding/CTIR/Moused_2-David-2024-07-05/labeled-data/E2_front ?\n",
      "Do you want to convert the csv file in folder: /home/box/coding/CTIR/Moused_2-David-2024-07-05/labeled-data/E2_side ?\n",
      "Do you want to convert the csv file in folder: /home/box/coding/CTIR/Moused_2-David-2024-07-05/labeled-data/E2_top ?\n"
     ]
    }
   ],
   "source": [
    "deeplabcut.convertcsv2h5('/home/box/coding/CTIR/Moused_2-David-2024-07-05/config.yaml', scorer= 'David')"
   ]
  },
  {
   "cell_type": "code",
   "execution_count": 30,
   "metadata": {},
   "outputs": [
    {
     "name": "stderr",
     "output_type": "stream",
     "text": [
      "/home/box/anaconda3/envs/DEEPLABCUT/lib/python3.8/site-packages/napari/_qt/qt_viewer.py:424: UserWarning: Attempting to unbind an action which does not exists (napari:cycle_through_color_modes), this may have no effects. This can happen if your settings are out of date, if you upgraded napari, upgraded or deactivated a plugin, or made a typo in in your custom keybinding.\n",
      "  action_manager.unbind_shortcut(action)\n"
     ]
    }
   ],
   "source": [
    "deeplabcut.label_frames(config_path)"
   ]
  },
  {
   "cell_type": "code",
   "execution_count": 31,
   "metadata": {},
   "outputs": [
    {
     "name": "stdout",
     "output_type": "stream",
     "text": [
      "Creating images with labels by David.\n"
     ]
    },
    {
     "name": "stderr",
     "output_type": "stream",
     "text": [
      "100%|██████████| 38/38 [00:04<00:00,  8.05it/s]\n",
      "100%|██████████| 46/46 [00:05<00:00,  8.83it/s]\n",
      "100%|██████████| 44/44 [00:05<00:00,  8.22it/s]\n",
      "100%|██████████| 28/28 [00:03<00:00,  8.33it/s]\n",
      "100%|██████████| 34/34 [00:03<00:00,  9.00it/s]\n",
      "100%|██████████| 33/33 [00:03<00:00,  8.39it/s]"
     ]
    },
    {
     "name": "stdout",
     "output_type": "stream",
     "text": [
      "If all the labels are ok, then use the function 'create_training_dataset' to create the training dataset!\n"
     ]
    },
    {
     "name": "stderr",
     "output_type": "stream",
     "text": [
      "\n"
     ]
    }
   ],
   "source": [
    "deeplabcut.check_labels(config_path)"
   ]
  },
  {
   "cell_type": "code",
   "execution_count": 5,
   "metadata": {},
   "outputs": [
    {
     "name": "stdout",
     "output_type": "stream",
     "text": [
      "The training dataset is successfully created. Use the function 'train_network' to start training. Happy training!\n",
      "The training dataset is successfully created. Use the function 'train_network' to start training. Happy training!\n"
     ]
    },
    {
     "data": {
      "text/plain": [
       "[(0.8,\n",
       "  1,\n",
       "  (array([153, 121,  54, 188, 196,  12, 152, 204, 107, 169,  10, 201,  62,\n",
       "          164, 192, 158,  70, 209, 200, 156,  60,  96, 198, 197,  21, 127,\n",
       "          163,  78, 109, 186,   1, 143,  40,  76,  37, 175, 132,  23,  50,\n",
       "          159,  47, 104,  77, 161,  56, 166, 102, 182,  15, 157, 135,  98,\n",
       "          179, 177, 134,  38,   6,  57,  95, 155, 199, 202, 154, 100, 195,\n",
       "          160,  59,  48, 113,  65, 150,  90, 115, 215, 118, 141, 165, 180,\n",
       "          183, 147, 130,  49,  52,  74,  26,  45, 149,   4,  11, 218, 203,\n",
       "           79,   8, 184,   5, 119, 194, 122,   7, 144,  99,  22,  68,  82,\n",
       "           20, 139,  86,  14,  42, 124, 170, 171, 189,  75,  64,  55, 205,\n",
       "           81,  58,  13, 125,  71,  72,  19,  32,  87, 110, 123, 142, 206,\n",
       "          220, 172,  24,  94, 106,  16,  63, 128, 105,  28, 208,  89,  93,\n",
       "          207,  83,  43,  92,  18, 145, 210, 193, 216, 111,  66, 117, 191,\n",
       "          140, 101,  69,   2,  84,  17, 146, 187, 213,  30, 114, 176, 103,\n",
       "          212,  25, 185, 116, 168,  91, 120, 221, 112]),\n",
       "   array([129, 136,  80, 214, 126, 190,   0,  36, 133,  33,  88, 162,  34,\n",
       "           44,  97,  85,  61, 167, 173, 222, 138,   9,  31,   3, 108, 178,\n",
       "           46, 131, 219,  41,  73, 137,  39,  35,  67,  29, 181, 148, 174,\n",
       "           51,  53, 151, 217, 211,  27]))),\n",
       " (0.8,\n",
       "  2,\n",
       "  (array([151,  40, 215, 219, 145, 166, 174,   2, 112, 103,  52, 201, 203,\n",
       "          216, 190,  19,  11, 144,  29,  86,  81, 195, 209,  23, 116, 164,\n",
       "          124, 217, 110, 197, 200, 172, 117,  17, 138,  44, 208,  48,  77,\n",
       "          202, 160,  49, 194,  42, 137,  62, 106,  85,  14,  88, 192, 101,\n",
       "          155,   5,   1, 126,  55,  95, 170,  16, 143, 100, 114, 185,  25,\n",
       "            8,  35, 204,  21,  54, 150, 130, 154, 196, 147,  20,  70, 173,\n",
       "           37, 178, 191,  79,  34, 193,  64, 153,  56,  27, 120, 176, 205,\n",
       "          127,  12,  33, 146, 199,  50, 142,  31, 141,  78, 139,  66, 212,\n",
       "           65,  92, 162,  82, 220,  53, 156,  41,  15,  30,  45,   6, 177,\n",
       "          169,  13,  75,  10, 211, 157, 122,  47,  60,  61,  80, 218,  51,\n",
       "           90,  98,  22, 118, 180,  73, 152, 183,   4, 105, 119, 165,  93,\n",
       "          132,  57,  59,  97, 115,  32, 184, 189,  96,  87, 123, 206,  89,\n",
       "           38, 222, 167,  46, 136, 149,   7, 158, 107, 213, 133,   0, 210,\n",
       "           71, 175, 102,  67, 108, 182,  84,  72,  94]),\n",
       "   array([125, 135, 187, 181, 179, 109,  26,  68,  28, 161, 214, 168, 121,\n",
       "            3, 134,  69,  99,  36, 186,  24,  39, 128, 207, 129,  58, 140,\n",
       "          131, 171,  74, 113,  18,  76,  83, 163, 111, 221, 188,   9, 198,\n",
       "          148, 159,  63,  43,  91, 104])))]"
      ]
     },
     "execution_count": 5,
     "metadata": {},
     "output_type": "execute_result"
    }
   ],
   "source": [
    "# There are many more functions you can set here, including which network to use. Check the docstring for full options you can do!\n",
    "deeplabcut.create_training_dataset(config_path, num_shuffles=2, net_type='resnet_101', augmenter_type='imgaug')"
   ]
  },
  {
   "cell_type": "code",
   "execution_count": 4,
   "metadata": {},
   "outputs": [
    {
     "name": "stderr",
     "output_type": "stream",
     "text": [
      "2024-07-05 17:03:45.977171: I tensorflow/compiler/xla/stream_executor/cuda/cuda_gpu_executor.cc:982] could not open file to read NUMA node: /sys/bus/pci/devices/0000:02:00.0/numa_node\n",
      "Your kernel may have been built without NUMA support.\n",
      "2024-07-05 17:03:45.977250: I tensorflow/compiler/xla/stream_executor/cuda/cuda_gpu_executor.cc:982] could not open file to read NUMA node: /sys/bus/pci/devices/0000:02:00.0/numa_node\n",
      "Your kernel may have been built without NUMA support.\n",
      "2024-07-05 17:03:45.977265: I tensorflow/compiler/xla/stream_executor/cuda/cuda_gpu_executor.cc:982] could not open file to read NUMA node: /sys/bus/pci/devices/0000:02:00.0/numa_node\n",
      "Your kernel may have been built without NUMA support.\n",
      "2024-07-05 17:03:46.495859: I tensorflow/compiler/xla/stream_executor/cuda/cuda_gpu_executor.cc:982] could not open file to read NUMA node: /sys/bus/pci/devices/0000:02:00.0/numa_node\n",
      "Your kernel may have been built without NUMA support.\n",
      "2024-07-05 17:03:46.495929: I tensorflow/compiler/xla/stream_executor/cuda/cuda_gpu_executor.cc:982] could not open file to read NUMA node: /sys/bus/pci/devices/0000:02:00.0/numa_node\n",
      "Your kernel may have been built without NUMA support.\n",
      "2024-07-05 17:03:46.495938: I tensorflow/core/common_runtime/gpu/gpu_device.cc:1722] Could not identify NUMA node of platform GPU id 0, defaulting to 0.  Your kernel may not have been built with NUMA support.\n",
      "2024-07-05 17:03:46.495953: I tensorflow/compiler/xla/stream_executor/cuda/cuda_gpu_executor.cc:982] could not open file to read NUMA node: /sys/bus/pci/devices/0000:02:00.0/numa_node\n",
      "Your kernel may have been built without NUMA support.\n",
      "2024-07-05 17:03:46.495975: I tensorflow/core/common_runtime/gpu/gpu_device.cc:1635] Created device /job:localhost/replica:0/task:0/device:GPU:0 with 13297 MB memory:  -> device: 0, name: NVIDIA GeForce RTX 4080 SUPER, pci bus id: 0000:02:00.0, compute capability: 8.9\n"
     ]
    }
   ],
   "source": [
    "import tensorflow as tf\n",
    "from tensorflow.compat.v1 import ConfigProto\n",
    "from tensorflow.compat.v1 import InteractiveSession\n",
    "\n",
    "config = ConfigProto()\n",
    "config.gpu_options.allow_growth = True\n",
    "session = InteractiveSession(config=config)\n"
   ]
  },
  {
   "cell_type": "code",
   "execution_count": 8,
   "metadata": {},
   "outputs": [],
   "source": [
    "shuffle = 2\n",
    "trainingsetindex = 0\n",
    "\n",
    "trainposeconfigfile, testposeconfigfile, snapshotfolder = deeplabcut.return_train_network_path(config_path, shuffle=shuffle, trainingsetindex=trainingsetindex)\n",
    "\n",
    "cfg_dlc = deeplabcut.auxiliaryfunctions.read_plainconfig(trainposeconfigfile)\n",
    "\n",
    "cfg_dlc['scale_jitter_lo'] = 0.7\n",
    "cfg_dlc['scale_jitter_up'] = 1.5\n",
    "cfg_dlc['augmentationprobability'] = 0.8\n",
    "cfg_dlc['batch_size'] = 4  # Adjusted batch size\n",
    "cfg_dlc['elastic_transform'] = True\n",
    "cfg_dlc['rotation'] = 180\n",
    "cfg_dlc['covering'] = True\n",
    "cfg_dlc['motion_blur'] = True\n",
    "cfg_dlc['optimizer'] = \"adam\"\n",
    "cfg_dlc['dataset_type'] = 'imgaug'\n",
    "cfg_dlc['multi_step'] = [[1e-4, 2000], [5.0e-5, 4000], [1e-5, 6000]] \n",
    "\n",
    "deeplabcut.auxiliaryfunctions.write_plainconfig(trainposeconfigfile, cfg_dlc)"
   ]
  },
  {
   "cell_type": "code",
   "execution_count": 9,
   "metadata": {},
   "outputs": [
    {
     "name": "stderr",
     "output_type": "stream",
     "text": [
      "Config:\n",
      "{'all_joints': [[0],\n",
      "                [1],\n",
      "                [2],\n",
      "                [3],\n",
      "                [4],\n",
      "                [5],\n",
      "                [6],\n",
      "                [7],\n",
      "                [8],\n",
      "                [9],\n",
      "                [10],\n",
      "                [11],\n",
      "                [12],\n",
      "                [13],\n",
      "                [14]],\n",
      " 'all_joints_names': ['nose',\n",
      "                      'ear_left',\n",
      "                      'ear_right',\n",
      "                      'front_paw_left',\n",
      "                      'front_paw_right',\n",
      "                      'body_center',\n",
      "                      'tail_base',\n",
      "                      'lever_tip',\n",
      "                      'upper_lever_tip',\n",
      "                      'stick_head',\n",
      "                      'ball',\n",
      "                      'sliding_door',\n",
      "                      'plateau_middle_front',\n",
      "                      'plateau_middle_back',\n",
      "                      'plateau_right_front'],\n",
      " 'alpha_r': 0.02,\n",
      " 'apply_prob': 0.5,\n",
      " 'augmentationprobability': 0.8,\n",
      " 'batch_size': 4,\n",
      " 'contrast': {'clahe': True,\n",
      "              'claheratio': 0.1,\n",
      "              'histeq': True,\n",
      "              'histeqratio': 0.1},\n",
      " 'convolution': {'edge': False,\n",
      "                 'emboss': {'alpha': [0.0, 1.0], 'strength': [0.5, 1.5]},\n",
      "                 'embossratio': 0.1,\n",
      "                 'sharpen': False,\n",
      "                 'sharpenratio': 0.3},\n",
      " 'covering': True,\n",
      " 'crop_pad': 0,\n",
      " 'cropratio': 0.4,\n",
      " 'dataset': 'training-datasets/iteration-1/UnaugmentedDataSet_Moused_2Jul5/Moused_2_David80shuffle2.mat',\n",
      " 'dataset_type': 'imgaug',\n",
      " 'decay_steps': 30000,\n",
      " 'deterministic': False,\n",
      " 'display_iters': 1000,\n",
      " 'elastic_transform': True,\n",
      " 'fg_fraction': 0.25,\n",
      " 'global_scale': 0.8,\n",
      " 'init_weights': '/home/box/anaconda3/envs/DEEPLABCUT/lib/python3.8/site-packages/deeplabcut/pose_estimation_tensorflow/models/pretrained/resnet_v1_101.ckpt',\n",
      " 'intermediate_supervision': False,\n",
      " 'intermediate_supervision_layer': 12,\n",
      " 'location_refinement': True,\n",
      " 'locref_huber_loss': True,\n",
      " 'locref_loss_weight': 0.05,\n",
      " 'locref_stdev': 7.2801,\n",
      " 'log_dir': 'log',\n",
      " 'lr_init': 0.0005,\n",
      " 'max_input_size': 1500,\n",
      " 'mean_pixel': [123.68, 116.779, 103.939],\n",
      " 'metadataset': 'training-datasets/iteration-1/UnaugmentedDataSet_Moused_2Jul5/Documentation_data-Moused_2_80shuffle2.pickle',\n",
      " 'min_input_size': 64,\n",
      " 'mirror': False,\n",
      " 'motion_blur': True,\n",
      " 'multi_stage': False,\n",
      " 'multi_step': [[0.0001, 2000], ['5e-05', 4000], ['1e-05', 6000]],\n",
      " 'net_type': 'resnet_101',\n",
      " 'num_joints': 15,\n",
      " 'optimizer': 'adam',\n",
      " 'pairwise_huber_loss': False,\n",
      " 'pairwise_predict': False,\n",
      " 'partaffinityfield_predict': False,\n",
      " 'pos_dist_thresh': 17,\n",
      " 'project_path': '/home/box/coding/CTIR/Moused_2-David-2024-07-05',\n",
      " 'regularize': False,\n",
      " 'rotation': 180,\n",
      " 'rotratio': 0.4,\n",
      " 'save_iters': 50000,\n",
      " 'scale_jitter_lo': 0.7,\n",
      " 'scale_jitter_up': 1.5,\n",
      " 'scoremap_dir': 'test',\n",
      " 'shuffle': True,\n",
      " 'snapshot_prefix': '/home/box/coding/CTIR/Moused_2-David-2024-07-05/dlc-models/iteration-1/Moused_2Jul5-trainset80shuffle2/train/snapshot',\n",
      " 'stride': 8.0,\n",
      " 'weigh_negatives': False,\n",
      " 'weigh_only_present_joints': False,\n",
      " 'weigh_part_predictions': False,\n",
      " 'weight_decay': 0.0001}\n"
     ]
    },
    {
     "name": "stdout",
     "output_type": "stream",
     "text": [
      "Selecting single-animal trainer\n",
      "Batch Size is 4\n"
     ]
    },
    {
     "name": "stderr",
     "output_type": "stream",
     "text": [
      "/home/box/anaconda3/envs/DEEPLABCUT/lib/python3.8/site-packages/tensorflow/python/keras/engine/base_layer_v1.py:1694: UserWarning: `layer.apply` is deprecated and will be removed in a future version. Please use `layer.__call__` method instead.\n",
      "  warnings.warn('`layer.apply` is deprecated and '\n",
      "2024-07-05 17:09:56.711306: I tensorflow/compiler/xla/stream_executor/cuda/cuda_gpu_executor.cc:982] could not open file to read NUMA node: /sys/bus/pci/devices/0000:02:00.0/numa_node\n",
      "Your kernel may have been built without NUMA support.\n",
      "2024-07-05 17:09:56.711372: I tensorflow/compiler/xla/stream_executor/cuda/cuda_gpu_executor.cc:982] could not open file to read NUMA node: /sys/bus/pci/devices/0000:02:00.0/numa_node\n",
      "Your kernel may have been built without NUMA support.\n",
      "2024-07-05 17:09:56.711386: I tensorflow/compiler/xla/stream_executor/cuda/cuda_gpu_executor.cc:982] could not open file to read NUMA node: /sys/bus/pci/devices/0000:02:00.0/numa_node\n",
      "Your kernel may have been built without NUMA support.\n",
      "2024-07-05 17:09:56.711625: I tensorflow/compiler/xla/stream_executor/cuda/cuda_gpu_executor.cc:982] could not open file to read NUMA node: /sys/bus/pci/devices/0000:02:00.0/numa_node\n",
      "Your kernel may have been built without NUMA support.\n",
      "2024-07-05 17:09:56.711634: I tensorflow/core/common_runtime/gpu/gpu_device.cc:1722] Could not identify NUMA node of platform GPU id 0, defaulting to 0.  Your kernel may not have been built with NUMA support.\n",
      "2024-07-05 17:09:56.711648: I tensorflow/compiler/xla/stream_executor/cuda/cuda_gpu_executor.cc:982] could not open file to read NUMA node: /sys/bus/pci/devices/0000:02:00.0/numa_node\n",
      "Your kernel may have been built without NUMA support.\n",
      "2024-07-05 17:09:56.711658: I tensorflow/core/common_runtime/gpu/gpu_device.cc:1635] Created device /job:localhost/replica:0/task:0/device:GPU:0 with 13297 MB memory:  -> device: 0, name: NVIDIA GeForce RTX 4080 SUPER, pci bus id: 0000:02:00.0, compute capability: 8.9\n"
     ]
    },
    {
     "name": "stdout",
     "output_type": "stream",
     "text": [
      "Loading ImageNet-pretrained resnet_101\n"
     ]
    },
    {
     "name": "stderr",
     "output_type": "stream",
     "text": [
      "2024-07-05 17:09:57.228018: I tensorflow/compiler/xla/stream_executor/cuda/cuda_gpu_executor.cc:982] could not open file to read NUMA node: /sys/bus/pci/devices/0000:02:00.0/numa_node\n",
      "Your kernel may have been built without NUMA support.\n",
      "2024-07-05 17:09:57.228077: I tensorflow/compiler/xla/stream_executor/cuda/cuda_gpu_executor.cc:982] could not open file to read NUMA node: /sys/bus/pci/devices/0000:02:00.0/numa_node\n",
      "Your kernel may have been built without NUMA support.\n",
      "2024-07-05 17:09:57.228090: I tensorflow/compiler/xla/stream_executor/cuda/cuda_gpu_executor.cc:982] could not open file to read NUMA node: /sys/bus/pci/devices/0000:02:00.0/numa_node\n",
      "Your kernel may have been built without NUMA support.\n",
      "2024-07-05 17:09:57.228417: I tensorflow/compiler/xla/stream_executor/cuda/cuda_gpu_executor.cc:982] could not open file to read NUMA node: /sys/bus/pci/devices/0000:02:00.0/numa_node\n",
      "Your kernel may have been built without NUMA support.\n",
      "2024-07-05 17:09:57.228461: I tensorflow/core/common_runtime/gpu/gpu_device.cc:1722] Could not identify NUMA node of platform GPU id 0, defaulting to 0.  Your kernel may not have been built with NUMA support.\n",
      "2024-07-05 17:09:57.228484: I tensorflow/compiler/xla/stream_executor/cuda/cuda_gpu_executor.cc:982] could not open file to read NUMA node: /sys/bus/pci/devices/0000:02:00.0/numa_node\n",
      "Your kernel may have been built without NUMA support.\n",
      "2024-07-05 17:09:57.228497: I tensorflow/core/common_runtime/gpu/gpu_device.cc:1635] Created device /job:localhost/replica:0/task:0/device:GPU:0 with 13297 MB memory:  -> device: 0, name: NVIDIA GeForce RTX 4080 SUPER, pci bus id: 0000:02:00.0, compute capability: 8.9\n",
      "2024-07-05 17:09:58.444507: I tensorflow/compiler/mlir/mlir_graph_optimization_pass.cc:353] MLIR V1 optimization pass is not enabled\n",
      "2024-07-05 17:10:02.295491: W tensorflow/c/c_api.cc:300] Operation '{name:'pose/locref_pred/block4/biases/Adam_1/Assign' id:13409 op device:{requested: '', assigned: ''} def:{{{node pose/locref_pred/block4/biases/Adam_1/Assign}} = AssignVariableOp[_has_manual_control_dependencies=true, dtype=DT_FLOAT, validate_shape=false](pose/locref_pred/block4/biases/Adam_1, pose/locref_pred/block4/biases/Adam_1/Initializer/zeros)}}' was changed by setting attribute after it was run by a session. This mutation will have no effect, and will trigger an error in the future. Either don't modify nodes after running them or create a new session.\n"
     ]
    },
    {
     "name": "stdout",
     "output_type": "stream",
     "text": [
      "Max_iters overwritten as 6000\n",
      "Display_iters overwritten as 50\n",
      "Save_iters overwritten as 2000\n",
      "Training parameter:\n",
      "{'stride': 8.0, 'weigh_part_predictions': False, 'weigh_negatives': False, 'fg_fraction': 0.25, 'mean_pixel': [123.68, 116.779, 103.939], 'shuffle': True, 'snapshot_prefix': '/home/box/coding/CTIR/Moused_2-David-2024-07-05/dlc-models/iteration-1/Moused_2Jul5-trainset80shuffle2/train/snapshot', 'log_dir': 'log', 'global_scale': 0.8, 'location_refinement': True, 'locref_stdev': 7.2801, 'locref_loss_weight': 0.05, 'locref_huber_loss': True, 'optimizer': 'adam', 'intermediate_supervision': False, 'intermediate_supervision_layer': 12, 'regularize': False, 'weight_decay': 0.0001, 'crop_pad': 0, 'scoremap_dir': 'test', 'batch_size': 4, 'dataset_type': 'imgaug', 'deterministic': False, 'mirror': False, 'pairwise_huber_loss': False, 'weigh_only_present_joints': False, 'partaffinityfield_predict': False, 'pairwise_predict': False, 'all_joints': [[0], [1], [2], [3], [4], [5], [6], [7], [8], [9], [10], [11], [12], [13], [14]], 'all_joints_names': ['nose', 'ear_left', 'ear_right', 'front_paw_left', 'front_paw_right', 'body_center', 'tail_base', 'lever_tip', 'upper_lever_tip', 'stick_head', 'ball', 'sliding_door', 'plateau_middle_front', 'plateau_middle_back', 'plateau_right_front'], 'alpha_r': 0.02, 'apply_prob': 0.5, 'contrast': {'clahe': True, 'claheratio': 0.1, 'histeq': True, 'histeqratio': 0.1, 'gamma': False, 'sigmoid': False, 'log': False, 'linear': False}, 'convolution': {'edge': False, 'emboss': {'alpha': [0.0, 1.0], 'strength': [0.5, 1.5]}, 'embossratio': 0.1, 'sharpen': False, 'sharpenratio': 0.3}, 'cropratio': 0.4, 'dataset': 'training-datasets/iteration-1/UnaugmentedDataSet_Moused_2Jul5/Moused_2_David80shuffle2.mat', 'decay_steps': 30000, 'display_iters': 1000, 'init_weights': '/home/box/anaconda3/envs/DEEPLABCUT/lib/python3.8/site-packages/deeplabcut/pose_estimation_tensorflow/models/pretrained/resnet_v1_101.ckpt', 'lr_init': 0.0005, 'max_input_size': 1500, 'metadataset': 'training-datasets/iteration-1/UnaugmentedDataSet_Moused_2Jul5/Documentation_data-Moused_2_80shuffle2.pickle', 'min_input_size': 64, 'multi_stage': False, 'multi_step': [[0.0001, 2000], ['5e-05', 4000], ['1e-05', 6000]], 'net_type': 'resnet_101', 'num_joints': 15, 'pos_dist_thresh': 17, 'project_path': '/home/box/coding/CTIR/Moused_2-David-2024-07-05', 'rotation': 180, 'rotratio': 0.4, 'save_iters': 50000, 'scale_jitter_lo': 0.7, 'scale_jitter_up': 1.5, 'augmentationprobability': 0.8, 'elastic_transform': True, 'covering': True, 'motion_blur': True, 'motion_blur_params': {'k': 7, 'angle': (-90, 90)}}\n",
      "Starting training....\n"
     ]
    },
    {
     "name": "stderr",
     "output_type": "stream",
     "text": [
      "2024-07-05 17:10:06.441814: I tensorflow/compiler/xla/stream_executor/cuda/cuda_dnn.cc:424] Loaded cuDNN version 8600\n",
      "iteration: 50 loss: 0.1011 lr: 0.0001\n",
      "iteration: 100 loss: 0.0320 lr: 0.0001\n",
      "iteration: 150 loss: 0.0331 lr: 0.0001\n",
      "iteration: 200 loss: 0.0288 lr: 0.0001\n",
      "iteration: 250 loss: 0.0263 lr: 0.0001\n",
      "iteration: 300 loss: 0.0236 lr: 0.0001\n",
      "iteration: 350 loss: 0.0213 lr: 0.0001\n",
      "iteration: 400 loss: 0.0204 lr: 0.0001\n",
      "iteration: 450 loss: 0.0199 lr: 0.0001\n",
      "iteration: 500 loss: 0.0183 lr: 0.0001\n",
      "iteration: 550 loss: 0.0182 lr: 0.0001\n",
      "iteration: 600 loss: 0.0178 lr: 0.0001\n",
      "iteration: 650 loss: 0.0170 lr: 0.0001\n",
      "iteration: 700 loss: 0.0161 lr: 0.0001\n",
      "iteration: 750 loss: 0.0147 lr: 0.0001\n",
      "iteration: 800 loss: 0.0145 lr: 0.0001\n",
      "iteration: 850 loss: 0.0145 lr: 0.0001\n",
      "iteration: 900 loss: 0.0141 lr: 0.0001\n",
      "iteration: 950 loss: 0.0138 lr: 0.0001\n",
      "iteration: 1000 loss: 0.0134 lr: 0.0001\n",
      "iteration: 1050 loss: 0.0128 lr: 0.0001\n",
      "iteration: 1100 loss: 0.0124 lr: 0.0001\n",
      "iteration: 1150 loss: 0.0128 lr: 0.0001\n",
      "iteration: 1200 loss: 0.0119 lr: 0.0001\n",
      "iteration: 1250 loss: 0.0120 lr: 0.0001\n",
      "iteration: 1300 loss: 0.0111 lr: 0.0001\n",
      "iteration: 1350 loss: 0.0115 lr: 0.0001\n",
      "iteration: 1400 loss: 0.0103 lr: 0.0001\n",
      "iteration: 1450 loss: 0.0116 lr: 0.0001\n",
      "iteration: 1500 loss: 0.0106 lr: 0.0001\n",
      "iteration: 1550 loss: 0.0104 lr: 0.0001\n",
      "iteration: 1600 loss: 0.0103 lr: 0.0001\n",
      "iteration: 1650 loss: 0.0103 lr: 0.0001\n",
      "iteration: 1700 loss: 0.0101 lr: 0.0001\n",
      "iteration: 1750 loss: 0.0099 lr: 0.0001\n",
      "iteration: 1800 loss: 0.0102 lr: 0.0001\n",
      "iteration: 1850 loss: 0.0087 lr: 0.0001\n",
      "iteration: 1900 loss: 0.0091 lr: 0.0001\n",
      "iteration: 1950 loss: 0.0102 lr: 0.0001\n",
      "iteration: 2000 loss: 0.0091 lr: 0.0001\n",
      "iteration: 2050 loss: 0.0084 lr: 5e-05\n",
      "iteration: 2100 loss: 0.0082 lr: 5e-05\n",
      "iteration: 2150 loss: 0.0083 lr: 5e-05\n",
      "iteration: 2200 loss: 0.0085 lr: 5e-05\n",
      "iteration: 2250 loss: 0.0080 lr: 5e-05\n",
      "iteration: 2300 loss: 0.0082 lr: 5e-05\n",
      "iteration: 2350 loss: 0.0080 lr: 5e-05\n",
      "iteration: 2400 loss: 0.0084 lr: 5e-05\n",
      "iteration: 2450 loss: 0.0072 lr: 5e-05\n",
      "iteration: 2500 loss: 0.0079 lr: 5e-05\n",
      "iteration: 2550 loss: 0.0073 lr: 5e-05\n",
      "iteration: 2600 loss: 0.0076 lr: 5e-05\n",
      "iteration: 2650 loss: 0.0077 lr: 5e-05\n",
      "iteration: 2700 loss: 0.0071 lr: 5e-05\n",
      "iteration: 2750 loss: 0.0073 lr: 5e-05\n",
      "iteration: 2800 loss: 0.0071 lr: 5e-05\n",
      "iteration: 2850 loss: 0.0073 lr: 5e-05\n",
      "iteration: 2900 loss: 0.0068 lr: 5e-05\n",
      "iteration: 2950 loss: 0.0069 lr: 5e-05\n",
      "iteration: 3000 loss: 0.0069 lr: 5e-05\n",
      "iteration: 3050 loss: 0.0068 lr: 5e-05\n",
      "iteration: 3100 loss: 0.0069 lr: 5e-05\n",
      "iteration: 3150 loss: 0.0070 lr: 5e-05\n",
      "iteration: 3200 loss: 0.0070 lr: 5e-05\n",
      "iteration: 3250 loss: 0.0064 lr: 5e-05\n",
      "iteration: 3300 loss: 0.0071 lr: 5e-05\n",
      "iteration: 3350 loss: 0.0069 lr: 5e-05\n",
      "iteration: 3400 loss: 0.0064 lr: 5e-05\n",
      "iteration: 3450 loss: 0.0066 lr: 5e-05\n",
      "iteration: 3500 loss: 0.0062 lr: 5e-05\n",
      "iteration: 3550 loss: 0.0063 lr: 5e-05\n",
      "iteration: 3600 loss: 0.0071 lr: 5e-05\n",
      "iteration: 3650 loss: 0.0065 lr: 5e-05\n",
      "iteration: 3700 loss: 0.0066 lr: 5e-05\n",
      "iteration: 3750 loss: 0.0069 lr: 5e-05\n",
      "iteration: 3800 loss: 0.0069 lr: 5e-05\n",
      "iteration: 3850 loss: 0.0066 lr: 5e-05\n",
      "iteration: 3900 loss: 0.0062 lr: 5e-05\n",
      "iteration: 3950 loss: 0.0066 lr: 5e-05\n",
      "iteration: 4000 loss: 0.0063 lr: 5e-05\n",
      "iteration: 4050 loss: 0.0061 lr: 1e-05\n",
      "iteration: 4100 loss: 0.0061 lr: 1e-05\n",
      "iteration: 4150 loss: 0.0059 lr: 1e-05\n",
      "iteration: 4200 loss: 0.0058 lr: 1e-05\n",
      "iteration: 4250 loss: 0.0052 lr: 1e-05\n",
      "iteration: 4300 loss: 0.0054 lr: 1e-05\n",
      "iteration: 4350 loss: 0.0054 lr: 1e-05\n",
      "iteration: 4400 loss: 0.0054 lr: 1e-05\n",
      "iteration: 4450 loss: 0.0057 lr: 1e-05\n",
      "iteration: 4500 loss: 0.0053 lr: 1e-05\n",
      "iteration: 4550 loss: 0.0056 lr: 1e-05\n",
      "iteration: 4600 loss: 0.0052 lr: 1e-05\n",
      "iteration: 4650 loss: 0.0051 lr: 1e-05\n",
      "iteration: 4700 loss: 0.0050 lr: 1e-05\n",
      "iteration: 4750 loss: 0.0053 lr: 1e-05\n",
      "iteration: 4800 loss: 0.0052 lr: 1e-05\n",
      "iteration: 4850 loss: 0.0051 lr: 1e-05\n",
      "iteration: 4900 loss: 0.0056 lr: 1e-05\n",
      "iteration: 4950 loss: 0.0056 lr: 1e-05\n",
      "iteration: 5000 loss: 0.0049 lr: 1e-05\n",
      "iteration: 5050 loss: 0.0053 lr: 1e-05\n",
      "iteration: 5100 loss: 0.0052 lr: 1e-05\n",
      "iteration: 5150 loss: 0.0052 lr: 1e-05\n",
      "iteration: 5200 loss: 0.0054 lr: 1e-05\n",
      "iteration: 5250 loss: 0.0052 lr: 1e-05\n",
      "iteration: 5300 loss: 0.0051 lr: 1e-05\n",
      "iteration: 5350 loss: 0.0053 lr: 1e-05\n",
      "iteration: 5400 loss: 0.0053 lr: 1e-05\n",
      "iteration: 5450 loss: 0.0057 lr: 1e-05\n",
      "iteration: 5500 loss: 0.0050 lr: 1e-05\n",
      "iteration: 5550 loss: 0.0048 lr: 1e-05\n",
      "iteration: 5600 loss: 0.0052 lr: 1e-05\n",
      "iteration: 5650 loss: 0.0053 lr: 1e-05\n",
      "iteration: 5700 loss: 0.0048 lr: 1e-05\n",
      "iteration: 5750 loss: 0.0057 lr: 1e-05\n",
      "iteration: 5800 loss: 0.0056 lr: 1e-05\n",
      "iteration: 5850 loss: 0.0050 lr: 1e-05\n",
      "iteration: 5900 loss: 0.0048 lr: 1e-05\n",
      "iteration: 5950 loss: 0.0050 lr: 1e-05\n",
      "iteration: 6000 loss: 0.0048 lr: 1e-05\n",
      "2024-07-05 17:34:48.188085: I tensorflow/core/common_runtime/executor.cc:1197] [/job:localhost/replica:0/task:0/device:CPU:0] (DEBUG INFO) Executor start aborting (this does not indicate an error and you can ignore this message): CANCELLED: Enqueue operation was cancelled\n",
      "\t [[{{node fifo_queue_enqueue}}]]\n",
      "2024-07-05 17:34:48.188156: W tensorflow/core/kernels/queue_base.cc:277] _0_fifo_queue: Skipping cancelled enqueue attempt with queue not closed\n",
      "Exception in thread Thread-5:\n",
      "Traceback (most recent call last):\n",
      "  File \"/home/box/anaconda3/envs/DEEPLABCUT/lib/python3.8/site-packages/tensorflow/python/client/session.py\", line 1378, in _do_call\n",
      "    return fn(*args)\n",
      "  File \"/home/box/anaconda3/envs/DEEPLABCUT/lib/python3.8/site-packages/tensorflow/python/client/session.py\", line 1361, in _run_fn\n",
      "    return self._call_tf_sessionrun(options, feed_dict, fetch_list,\n",
      "  File \"/home/box/anaconda3/envs/DEEPLABCUT/lib/python3.8/site-packages/tensorflow/python/client/session.py\", line 1454, in _call_tf_sessionrun\n",
      "    return tf_session.TF_SessionRun_wrapper(self._session, options, feed_dict,\n",
      "tensorflow.python.framework.errors_impl.CancelledError: Enqueue operation was cancelled\n",
      "\t [[{{node fifo_queue_enqueue}}]]\n",
      "\n",
      "During handling of the above exception, another exception occurred:\n",
      "\n",
      "Traceback (most recent call last):\n",
      "  File \"/home/box/anaconda3/envs/DEEPLABCUT/lib/python3.8/threading.py\", line 932, in _bootstrap_inner\n",
      "    self.run()\n",
      "  File \"/home/box/anaconda3/envs/DEEPLABCUT/lib/python3.8/site-packages/ipykernel/ipkernel.py\", line 761, in run_closure\n",
      "    _threading_Thread_run(self)\n",
      "  File \"/home/box/anaconda3/envs/DEEPLABCUT/lib/python3.8/threading.py\", line 870, in run\n",
      "    self._target(*self._args, **self._kwargs)\n",
      "  File \"/home/box/anaconda3/envs/DEEPLABCUT/lib/python3.8/site-packages/deeplabcut/pose_estimation_tensorflow/core/train.py\", line 86, in load_and_enqueue\n",
      "    sess.run(enqueue_op, feed_dict=food)\n",
      "  File \"/home/box/anaconda3/envs/DEEPLABCUT/lib/python3.8/site-packages/tensorflow/python/client/session.py\", line 968, in run\n",
      "    result = self._run(None, fetches, feed_dict, options_ptr,\n",
      "  File \"/home/box/anaconda3/envs/DEEPLABCUT/lib/python3.8/site-packages/tensorflow/python/client/session.py\", line 1191, in _run\n",
      "    results = self._do_run(handle, final_targets, final_fetches,\n",
      "  File \"/home/box/anaconda3/envs/DEEPLABCUT/lib/python3.8/site-packages/tensorflow/python/client/session.py\", line 1371, in _do_run\n",
      "    return self._do_call(_run_fn, feeds, fetches, targets, options,\n",
      "  File \"/home/box/anaconda3/envs/DEEPLABCUT/lib/python3.8/site-packages/tensorflow/python/client/session.py\", line 1397, in _do_call\n",
      "    raise type(e)(node_def, op, message)  # pylint: disable=no-value-for-parameter\n",
      "tensorflow.python.framework.errors_impl.CancelledError: Graph execution error:\n",
      "\n",
      "Detected at node 'fifo_queue_enqueue' defined at (most recent call last):\n",
      "    File \"/home/box/anaconda3/envs/DEEPLABCUT/lib/python3.8/runpy.py\", line 194, in _run_module_as_main\n",
      "      return _run_code(code, main_globals, None,\n",
      "    File \"/home/box/anaconda3/envs/DEEPLABCUT/lib/python3.8/runpy.py\", line 87, in _run_code\n",
      "      exec(code, run_globals)\n",
      "    File \"/home/box/anaconda3/envs/DEEPLABCUT/lib/python3.8/site-packages/ipykernel_launcher.py\", line 18, in <module>\n",
      "      app.launch_new_instance()\n",
      "    File \"/home/box/anaconda3/envs/DEEPLABCUT/lib/python3.8/site-packages/traitlets/config/application.py\", line 1075, in launch_instance\n",
      "      app.start()\n",
      "    File \"/home/box/anaconda3/envs/DEEPLABCUT/lib/python3.8/site-packages/ipykernel/kernelapp.py\", line 739, in start\n",
      "      self.io_loop.start()\n",
      "    File \"/home/box/anaconda3/envs/DEEPLABCUT/lib/python3.8/site-packages/tornado/platform/asyncio.py\", line 205, in start\n",
      "      self.asyncio_loop.run_forever()\n",
      "    File \"/home/box/anaconda3/envs/DEEPLABCUT/lib/python3.8/asyncio/base_events.py\", line 570, in run_forever\n",
      "      self._run_once()\n",
      "    File \"/home/box/anaconda3/envs/DEEPLABCUT/lib/python3.8/asyncio/base_events.py\", line 1859, in _run_once\n",
      "      handle._run()\n",
      "    File \"/home/box/anaconda3/envs/DEEPLABCUT/lib/python3.8/asyncio/events.py\", line 81, in _run\n",
      "      self._context.run(self._callback, *self._args)\n",
      "    File \"/home/box/anaconda3/envs/DEEPLABCUT/lib/python3.8/site-packages/ipykernel/kernelbase.py\", line 545, in dispatch_queue\n",
      "      await self.process_one()\n",
      "    File \"/home/box/anaconda3/envs/DEEPLABCUT/lib/python3.8/site-packages/ipykernel/kernelbase.py\", line 534, in process_one\n",
      "      await dispatch(*args)\n",
      "    File \"/home/box/anaconda3/envs/DEEPLABCUT/lib/python3.8/site-packages/ipykernel/kernelbase.py\", line 437, in dispatch_shell\n",
      "      await result\n",
      "    File \"/home/box/anaconda3/envs/DEEPLABCUT/lib/python3.8/site-packages/ipykernel/ipkernel.py\", line 359, in execute_request\n",
      "      await super().execute_request(stream, ident, parent)\n",
      "    File \"/home/box/anaconda3/envs/DEEPLABCUT/lib/python3.8/site-packages/ipykernel/kernelbase.py\", line 778, in execute_request\n",
      "      reply_content = await reply_content\n",
      "    File \"/home/box/anaconda3/envs/DEEPLABCUT/lib/python3.8/site-packages/ipykernel/ipkernel.py\", line 446, in do_execute\n",
      "      res = shell.run_cell(\n",
      "    File \"/home/box/anaconda3/envs/DEEPLABCUT/lib/python3.8/site-packages/ipykernel/zmqshell.py\", line 549, in run_cell\n",
      "      return super().run_cell(*args, **kwargs)\n",
      "    File \"/home/box/anaconda3/envs/DEEPLABCUT/lib/python3.8/site-packages/IPython/core/interactiveshell.py\", line 3009, in run_cell\n",
      "      result = self._run_cell(\n",
      "    File \"/home/box/anaconda3/envs/DEEPLABCUT/lib/python3.8/site-packages/IPython/core/interactiveshell.py\", line 3064, in _run_cell\n",
      "      result = runner(coro)\n",
      "    File \"/home/box/anaconda3/envs/DEEPLABCUT/lib/python3.8/site-packages/IPython/core/async_helpers.py\", line 129, in _pseudo_sync_runner\n",
      "      coro.send(None)\n",
      "    File \"/home/box/anaconda3/envs/DEEPLABCUT/lib/python3.8/site-packages/IPython/core/interactiveshell.py\", line 3269, in run_cell_async\n",
      "      has_raised = await self.run_ast_nodes(code_ast.body, cell_name,\n",
      "    File \"/home/box/anaconda3/envs/DEEPLABCUT/lib/python3.8/site-packages/IPython/core/interactiveshell.py\", line 3448, in run_ast_nodes\n",
      "      if await self.run_code(code, result, async_=asy):\n",
      "    File \"/home/box/anaconda3/envs/DEEPLABCUT/lib/python3.8/site-packages/IPython/core/interactiveshell.py\", line 3508, in run_code\n",
      "      exec(code_obj, self.user_global_ns, self.user_ns)\n",
      "    File \"/tmp/ipykernel_43770/2257546995.py\", line 1, in <module>\n",
      "      deeplabcut.train_network(config_path, shuffle=shuffle, trainingsetindex=trainingsetindex, saveiters=2000, maxiters=10000, displayiters=50)\n",
      "    File \"/home/box/anaconda3/envs/DEEPLABCUT/lib/python3.8/site-packages/deeplabcut/pose_estimation_tensorflow/training.py\", line 273, in train_network\n",
      "      train(\n",
      "    File \"/home/box/anaconda3/envs/DEEPLABCUT/lib/python3.8/site-packages/deeplabcut/pose_estimation_tensorflow/core/train.py\", line 172, in train\n",
      "      batch, enqueue_op, placeholders = setup_preloading(batch_spec)\n",
      "    File \"/home/box/anaconda3/envs/DEEPLABCUT/lib/python3.8/site-packages/deeplabcut/pose_estimation_tensorflow/core/train.py\", line 72, in setup_preloading\n",
      "      enqueue_op = q.enqueue(placeholders_list)\n",
      "Node: 'fifo_queue_enqueue'\n",
      "Enqueue operation was cancelled\n",
      "\t [[{{node fifo_queue_enqueue}}]]\n",
      "\n",
      "Original stack trace for 'fifo_queue_enqueue':\n",
      "  File \"/home/box/anaconda3/envs/DEEPLABCUT/lib/python3.8/runpy.py\", line 194, in _run_module_as_main\n",
      "    return _run_code(code, main_globals, None,\n",
      "  File \"/home/box/anaconda3/envs/DEEPLABCUT/lib/python3.8/runpy.py\", line 87, in _run_code\n",
      "    exec(code, run_globals)\n",
      "  File \"/home/box/anaconda3/envs/DEEPLABCUT/lib/python3.8/site-packages/ipykernel_launcher.py\", line 18, in <module>\n",
      "    app.launch_new_instance()\n",
      "  File \"/home/box/anaconda3/envs/DEEPLABCUT/lib/python3.8/site-packages/traitlets/config/application.py\", line 1075, in launch_instance\n",
      "    app.start()\n",
      "  File \"/home/box/anaconda3/envs/DEEPLABCUT/lib/python3.8/site-packages/ipykernel/kernelapp.py\", line 739, in start\n",
      "    self.io_loop.start()\n",
      "  File \"/home/box/anaconda3/envs/DEEPLABCUT/lib/python3.8/site-packages/tornado/platform/asyncio.py\", line 205, in start\n",
      "    self.asyncio_loop.run_forever()\n",
      "  File \"/home/box/anaconda3/envs/DEEPLABCUT/lib/python3.8/asyncio/base_events.py\", line 570, in run_forever\n",
      "    self._run_once()\n",
      "  File \"/home/box/anaconda3/envs/DEEPLABCUT/lib/python3.8/asyncio/base_events.py\", line 1859, in _run_once\n",
      "    handle._run()\n",
      "  File \"/home/box/anaconda3/envs/DEEPLABCUT/lib/python3.8/asyncio/events.py\", line 81, in _run\n",
      "    self._context.run(self._callback, *self._args)\n",
      "  File \"/home/box/anaconda3/envs/DEEPLABCUT/lib/python3.8/site-packages/ipykernel/kernelbase.py\", line 545, in dispatch_queue\n",
      "    await self.process_one()\n",
      "  File \"/home/box/anaconda3/envs/DEEPLABCUT/lib/python3.8/site-packages/ipykernel/kernelbase.py\", line 534, in process_one\n",
      "    await dispatch(*args)\n",
      "  File \"/home/box/anaconda3/envs/DEEPLABCUT/lib/python3.8/site-packages/ipykernel/kernelbase.py\", line 437, in dispatch_shell\n",
      "    await result\n",
      "  File \"/home/box/anaconda3/envs/DEEPLABCUT/lib/python3.8/site-packages/ipykernel/ipkernel.py\", line 359, in execute_request\n",
      "    await super().execute_request(stream, ident, parent)\n",
      "  File \"/home/box/anaconda3/envs/DEEPLABCUT/lib/python3.8/site-packages/ipykernel/kernelbase.py\", line 778, in execute_request\n",
      "    reply_content = await reply_content\n",
      "  File \"/home/box/anaconda3/envs/DEEPLABCUT/lib/python3.8/site-packages/ipykernel/ipkernel.py\", line 446, in do_execute\n",
      "    res = shell.run_cell(\n",
      "  File \"/home/box/anaconda3/envs/DEEPLABCUT/lib/python3.8/site-packages/ipykernel/zmqshell.py\", line 549, in run_cell\n",
      "    return super().run_cell(*args, **kwargs)\n",
      "  File \"/home/box/anaconda3/envs/DEEPLABCUT/lib/python3.8/site-packages/IPython/core/interactiveshell.py\", line 3009, in run_cell\n",
      "    result = self._run_cell(\n",
      "  File \"/home/box/anaconda3/envs/DEEPLABCUT/lib/python3.8/site-packages/IPython/core/interactiveshell.py\", line 3064, in _run_cell\n",
      "    result = runner(coro)\n",
      "  File \"/home/box/anaconda3/envs/DEEPLABCUT/lib/python3.8/site-packages/IPython/core/async_helpers.py\", line 129, in _pseudo_sync_runner\n",
      "    coro.send(None)\n",
      "  File \"/home/box/anaconda3/envs/DEEPLABCUT/lib/python3.8/site-packages/IPython/core/interactiveshell.py\", line 3269, in run_cell_async\n",
      "    has_raised = await self.run_ast_nodes(code_ast.body, cell_name,\n",
      "  File \"/home/box/anaconda3/envs/DEEPLABCUT/lib/python3.8/site-packages/IPython/core/interactiveshell.py\", line 3448, in run_ast_nodes\n",
      "    if await self.run_code(code, result, async_=asy):\n",
      "  File \"/home/box/anaconda3/envs/DEEPLABCUT/lib/python3.8/site-packages/IPython/core/interactiveshell.py\", line 3508, in run_code\n",
      "    exec(code_obj, self.user_global_ns, self.user_ns)\n",
      "  File \"/tmp/ipykernel_43770/2257546995.py\", line 1, in <module>\n",
      "    deeplabcut.train_network(config_path, shuffle=shuffle, trainingsetindex=trainingsetindex, saveiters=2000, maxiters=10000, displayiters=50)\n",
      "  File \"/home/box/anaconda3/envs/DEEPLABCUT/lib/python3.8/site-packages/deeplabcut/pose_estimation_tensorflow/training.py\", line 273, in train_network\n",
      "    train(\n",
      "  File \"/home/box/anaconda3/envs/DEEPLABCUT/lib/python3.8/site-packages/deeplabcut/pose_estimation_tensorflow/core/train.py\", line 172, in train\n",
      "    batch, enqueue_op, placeholders = setup_preloading(batch_spec)\n",
      "  File \"/home/box/anaconda3/envs/DEEPLABCUT/lib/python3.8/site-packages/deeplabcut/pose_estimation_tensorflow/core/train.py\", line 72, in setup_preloading\n",
      "    enqueue_op = q.enqueue(placeholders_list)\n",
      "  File \"/home/box/anaconda3/envs/DEEPLABCUT/lib/python3.8/site-packages/tensorflow/python/ops/data_flow_ops.py\", line 346, in enqueue\n",
      "    return gen_data_flow_ops.queue_enqueue_v2(\n",
      "  File \"/home/box/anaconda3/envs/DEEPLABCUT/lib/python3.8/site-packages/tensorflow/python/ops/gen_data_flow_ops.py\", line 4068, in queue_enqueue_v2\n",
      "    _, _, _op, _outputs = _op_def_library._apply_op_helper(\n",
      "  File \"/home/box/anaconda3/envs/DEEPLABCUT/lib/python3.8/site-packages/tensorflow/python/framework/op_def_library.py\", line 795, in _apply_op_helper\n",
      "    op = g._create_op_internal(op_type_name, inputs, dtypes=None,\n",
      "  File \"/home/box/anaconda3/envs/DEEPLABCUT/lib/python3.8/site-packages/tensorflow/python/framework/ops.py\", line 3814, in _create_op_internal\n",
      "    ret = Operation(\n",
      "\n"
     ]
    },
    {
     "name": "stdout",
     "output_type": "stream",
     "text": [
      "The network is now trained and ready to evaluate. Use the function 'evaluate_network' to evaluate the network.\n"
     ]
    }
   ],
   "source": [
    "deeplabcut.train_network(config_path, shuffle=shuffle, trainingsetindex=trainingsetindex, saveiters=2000, maxiters=10000, displayiters=50)"
   ]
  },
  {
   "cell_type": "code",
   "execution_count": 14,
   "metadata": {},
   "outputs": [
    {
     "name": "stderr",
     "output_type": "stream",
     "text": [
      "Config:\n",
      "{'all_joints': [[0],\n",
      "                [1],\n",
      "                [2],\n",
      "                [3],\n",
      "                [4],\n",
      "                [5],\n",
      "                [6],\n",
      "                [7],\n",
      "                [8],\n",
      "                [9],\n",
      "                [10],\n",
      "                [11],\n",
      "                [12],\n",
      "                [13],\n",
      "                [14]],\n",
      " 'all_joints_names': ['nose',\n",
      "                      'ear_left',\n",
      "                      'ear_right',\n",
      "                      'front_paw_left',\n",
      "                      'front_paw_right',\n",
      "                      'body_center',\n",
      "                      'tail_base',\n",
      "                      'lever_tip',\n",
      "                      'upper_lever_tip',\n",
      "                      'stick_head',\n",
      "                      'ball',\n",
      "                      'sliding_door',\n",
      "                      'plateau_middle_front',\n",
      "                      'plateau_middle_back',\n",
      "                      'plateau_right_front'],\n",
      " 'batch_size': 1,\n",
      " 'crop_pad': 0,\n",
      " 'dataset': 'training-datasets/iteration-1/UnaugmentedDataSet_Moused_2Jul5/Moused_2_David80shuffle2.mat',\n",
      " 'dataset_type': 'imgaug',\n",
      " 'deterministic': False,\n",
      " 'fg_fraction': 0.25,\n",
      " 'global_scale': 0.8,\n",
      " 'init_weights': '/home/box/anaconda3/envs/DEEPLABCUT/lib/python3.8/site-packages/deeplabcut/pose_estimation_tensorflow/models/pretrained/resnet_v1_101.ckpt',\n",
      " 'intermediate_supervision': False,\n",
      " 'intermediate_supervision_layer': 12,\n",
      " 'location_refinement': True,\n",
      " 'locref_huber_loss': True,\n",
      " 'locref_loss_weight': 1.0,\n",
      " 'locref_stdev': 7.2801,\n",
      " 'log_dir': 'log',\n",
      " 'mean_pixel': [123.68, 116.779, 103.939],\n",
      " 'mirror': False,\n",
      " 'net_type': 'resnet_101',\n",
      " 'num_joints': 15,\n",
      " 'optimizer': 'sgd',\n",
      " 'pairwise_huber_loss': True,\n",
      " 'pairwise_predict': False,\n",
      " 'partaffinityfield_predict': False,\n",
      " 'regularize': False,\n",
      " 'scoremap_dir': 'test',\n",
      " 'shuffle': True,\n",
      " 'snapshot_prefix': '/home/box/coding/CTIR/Moused_2-David-2024-07-05/dlc-models/iteration-1/Moused_2Jul5-trainset80shuffle2/test/snapshot',\n",
      " 'stride': 8.0,\n",
      " 'weigh_negatives': False,\n",
      " 'weigh_only_present_joints': False,\n",
      " 'weigh_part_predictions': False,\n",
      " 'weight_decay': 0.0001}\n",
      "Config:\n",
      "{'all_joints': [[0],\n",
      "                [1],\n",
      "                [2],\n",
      "                [3],\n",
      "                [4],\n",
      "                [5],\n",
      "                [6],\n",
      "                [7],\n",
      "                [8],\n",
      "                [9],\n",
      "                [10],\n",
      "                [11],\n",
      "                [12],\n",
      "                [13],\n",
      "                [14]],\n",
      " 'all_joints_names': ['nose',\n",
      "                      'ear_left',\n",
      "                      'ear_right',\n",
      "                      'front_paw_left',\n",
      "                      'front_paw_right',\n",
      "                      'body_center',\n",
      "                      'tail_base',\n",
      "                      'lever_tip',\n",
      "                      'upper_lever_tip',\n",
      "                      'stick_head',\n",
      "                      'ball',\n",
      "                      'sliding_door',\n",
      "                      'plateau_middle_front',\n",
      "                      'plateau_middle_back',\n",
      "                      'plateau_right_front'],\n",
      " 'alpha_r': 0.02,\n",
      " 'apply_prob': 0.5,\n",
      " 'augmentationprobability': 0.8,\n",
      " 'batch_size': 4,\n",
      " 'contrast': {'clahe': True,\n",
      "              'claheratio': 0.1,\n",
      "              'histeq': True,\n",
      "              'histeqratio': 0.1},\n",
      " 'convolution': {'edge': False,\n",
      "                 'emboss': {'alpha': [0.0, 1.0], 'strength': [0.5, 1.5]},\n",
      "                 'embossratio': 0.1,\n",
      "                 'sharpen': False,\n",
      "                 'sharpenratio': 0.3},\n",
      " 'covering': True,\n",
      " 'crop_pad': 0,\n",
      " 'cropratio': 0.4,\n",
      " 'dataset': 'training-datasets/iteration-1/UnaugmentedDataSet_Moused_2Jul5/Moused_2_David80shuffle2.mat',\n",
      " 'dataset_type': 'imgaug',\n",
      " 'decay_steps': 30000,\n",
      " 'deterministic': False,\n",
      " 'display_iters': 1000,\n",
      " 'elastic_transform': True,\n",
      " 'fg_fraction': 0.25,\n",
      " 'global_scale': 0.8,\n",
      " 'init_weights': '/home/box/anaconda3/envs/DEEPLABCUT/lib/python3.8/site-packages/deeplabcut/pose_estimation_tensorflow/models/pretrained/resnet_v1_101.ckpt',\n",
      " 'intermediate_supervision': False,\n",
      " 'intermediate_supervision_layer': 12,\n",
      " 'location_refinement': True,\n",
      " 'locref_huber_loss': True,\n",
      " 'locref_loss_weight': 0.05,\n",
      " 'locref_stdev': 7.2801,\n",
      " 'log_dir': 'log',\n",
      " 'lr_init': 0.0005,\n",
      " 'max_input_size': 1500,\n",
      " 'mean_pixel': [123.68, 116.779, 103.939],\n",
      " 'metadataset': 'training-datasets/iteration-1/UnaugmentedDataSet_Moused_2Jul5/Documentation_data-Moused_2_80shuffle2.pickle',\n",
      " 'min_input_size': 64,\n",
      " 'mirror': False,\n",
      " 'motion_blur': True,\n",
      " 'multi_stage': False,\n",
      " 'multi_step': [[0.0001, 2000], ['5e-05', 4000], ['1e-05', 6000]],\n",
      " 'net_type': 'resnet_101',\n",
      " 'num_joints': 15,\n",
      " 'optimizer': 'adam',\n",
      " 'pairwise_huber_loss': False,\n",
      " 'pairwise_predict': False,\n",
      " 'partaffinityfield_predict': False,\n",
      " 'pos_dist_thresh': 17,\n",
      " 'project_path': '/home/box/coding/CTIR/Moused_2-David-2024-07-05',\n",
      " 'regularize': False,\n",
      " 'rotation': 180,\n",
      " 'rotratio': 0.4,\n",
      " 'save_iters': 50000,\n",
      " 'scale_jitter_lo': 0.7,\n",
      " 'scale_jitter_up': 1.5,\n",
      " 'scoremap_dir': 'test',\n",
      " 'shuffle': True,\n",
      " 'snapshot_prefix': '/home/box/coding/CTIR/Moused_2-David-2024-07-05/dlc-models/iteration-1/Moused_2Jul5-trainset80shuffle2/train/snapshot',\n",
      " 'stride': 8.0,\n",
      " 'weigh_negatives': False,\n",
      " 'weigh_only_present_joints': False,\n",
      " 'weigh_part_predictions': False,\n",
      " 'weight_decay': 0.0001}\n",
      "/home/box/anaconda3/envs/DEEPLABCUT/lib/python3.8/site-packages/tensorflow/python/keras/engine/base_layer_v1.py:1694: UserWarning: `layer.apply` is deprecated and will be removed in a future version. Please use `layer.__call__` method instead.\n",
      "  warnings.warn('`layer.apply` is deprecated and '\n"
     ]
    },
    {
     "name": "stdout",
     "output_type": "stream",
     "text": [
      "Running  DLC_resnet101_Moused_2Jul5shuffle2_6000  with # of training iterations: 6000\n"
     ]
    },
    {
     "name": "stderr",
     "output_type": "stream",
     "text": [
      "2024-07-05 18:52:03.709013: I tensorflow/compiler/xla/stream_executor/cuda/cuda_gpu_executor.cc:982] could not open file to read NUMA node: /sys/bus/pci/devices/0000:02:00.0/numa_node\n",
      "Your kernel may have been built without NUMA support.\n",
      "2024-07-05 18:52:03.709111: I tensorflow/compiler/xla/stream_executor/cuda/cuda_gpu_executor.cc:982] could not open file to read NUMA node: /sys/bus/pci/devices/0000:02:00.0/numa_node\n",
      "Your kernel may have been built without NUMA support.\n",
      "2024-07-05 18:52:03.709125: I tensorflow/compiler/xla/stream_executor/cuda/cuda_gpu_executor.cc:982] could not open file to read NUMA node: /sys/bus/pci/devices/0000:02:00.0/numa_node\n",
      "Your kernel may have been built without NUMA support.\n",
      "2024-07-05 18:52:03.709321: I tensorflow/compiler/xla/stream_executor/cuda/cuda_gpu_executor.cc:982] could not open file to read NUMA node: /sys/bus/pci/devices/0000:02:00.0/numa_node\n",
      "Your kernel may have been built without NUMA support.\n",
      "2024-07-05 18:52:03.709333: I tensorflow/core/common_runtime/gpu/gpu_device.cc:1722] Could not identify NUMA node of platform GPU id 0, defaulting to 0.  Your kernel may not have been built with NUMA support.\n",
      "2024-07-05 18:52:03.709349: I tensorflow/compiler/xla/stream_executor/cuda/cuda_gpu_executor.cc:982] could not open file to read NUMA node: /sys/bus/pci/devices/0000:02:00.0/numa_node\n",
      "Your kernel may have been built without NUMA support.\n",
      "2024-07-05 18:52:03.709364: I tensorflow/core/common_runtime/gpu/gpu_device.cc:1635] Created device /job:localhost/replica:0/task:0/device:GPU:0 with 13297 MB memory:  -> device: 0, name: NVIDIA GeForce RTX 4080 SUPER, pci bus id: 0000:02:00.0, compute capability: 8.9\n"
     ]
    },
    {
     "name": "stdout",
     "output_type": "stream",
     "text": [
      "Running evaluation ...\n"
     ]
    },
    {
     "name": "stderr",
     "output_type": "stream",
     "text": [
      "223it [00:08, 25.62it/s]\n"
     ]
    },
    {
     "name": "stdout",
     "output_type": "stream",
     "text": [
      "Analysis is done and the results are stored (see evaluation-results) for snapshot:  snapshot-6000\n",
      "Results for 6000  training iterations: 80 2 train error: 5.58 pixels. Test error: 12.56  pixels.\n",
      "With pcutoff of 0.6  train error: 4.28 pixels. Test error: 6.95 pixels\n",
      "Thereby, the errors are given by the average distances between the labels by DLC and the scorer.\n",
      "Plotting...\n"
     ]
    },
    {
     "name": "stderr",
     "output_type": "stream",
     "text": [
      "100%|██████████| 223/223 [00:43<00:00,  5.12it/s]\n"
     ]
    },
    {
     "name": "stdout",
     "output_type": "stream",
     "text": [
      "The network is evaluated and the results are stored in the subdirectory 'evaluation_results'.\n",
      "Please check the results, then choose the best model (snapshot) for prediction. You can update the config.yaml file with the appropriate index for the 'snapshotindex'.\n",
      "Use the function 'analyze_video' to make predictions on new videos.\n",
      "Otherwise, consider adding more labeled-data and retraining the network (see DeepLabCut workflow Fig 2, Nath 2019)\n"
     ]
    },
    {
     "data": {
      "image/png": "[encoded data removed]",
      "text/plain": [
       "<Figure size 968x608 with 1 Axes>"
      ]
     },
     "metadata": {},
     "output_type": "display_data"
    }
   ],
   "source": [
    "deeplabcut.evaluate_network(config_path,plotting=True, Shuffles=[2])"
   ]
  },
  {
   "cell_type": "code",
   "execution_count": 15,
   "metadata": {},
   "outputs": [],
   "source": [
    "video_path = '/home/box/coding/CTIR/videos/experiment_1/E1_top.avi'\n",
    "video_paths = ['/home/box/coding/CTIR/videos/experiment_1/E1_side.avi','/home/box/coding/CTIR/videos/experiment_1/E1_front.avi','/home/box/coding/CTIR/videos/experiment_1/E1_top.avi',\n",
    "               '/home/box/coding/CTIR/videos/experiment_2/E2_side.avi','/home/box/coding/CTIR/videos/experiment_2/E2_front.avi','/home/box/coding/CTIR/videos/experiment_2/E2_top.avi']"
   ]
  },
  {
   "cell_type": "code",
   "execution_count": 16,
   "metadata": {},
   "outputs": [
    {
     "name": "stderr",
     "output_type": "stream",
     "text": [
      "Config:\n",
      "{'all_joints': [[0],\n",
      "                [1],\n",
      "                [2],\n",
      "                [3],\n",
      "                [4],\n",
      "                [5],\n",
      "                [6],\n",
      "                [7],\n",
      "                [8],\n",
      "                [9],\n",
      "                [10],\n",
      "                [11],\n",
      "                [12],\n",
      "                [13],\n",
      "                [14]],\n",
      " 'all_joints_names': ['nose',\n",
      "                      'ear_left',\n",
      "                      'ear_right',\n",
      "                      'front_paw_left',\n",
      "                      'front_paw_right',\n",
      "                      'body_center',\n",
      "                      'tail_base',\n",
      "                      'lever_tip',\n",
      "                      'upper_lever_tip',\n",
      "                      'stick_head',\n",
      "                      'ball',\n",
      "                      'sliding_door',\n",
      "                      'plateau_middle_front',\n",
      "                      'plateau_middle_back',\n",
      "                      'plateau_right_front'],\n",
      " 'batch_size': 1,\n",
      " 'crop_pad': 0,\n",
      " 'dataset': 'training-datasets/iteration-1/UnaugmentedDataSet_Moused_2Jul5/Moused_2_David80shuffle1.mat',\n",
      " 'dataset_type': 'imgaug',\n",
      " 'deterministic': False,\n",
      " 'fg_fraction': 0.25,\n",
      " 'global_scale': 0.8,\n",
      " 'init_weights': '/home/box/anaconda3/envs/DEEPLABCUT/lib/python3.8/site-packages/deeplabcut/pose_estimation_tensorflow/models/pretrained/resnet_v1_101.ckpt',\n",
      " 'intermediate_supervision': False,\n",
      " 'intermediate_supervision_layer': 12,\n",
      " 'location_refinement': True,\n",
      " 'locref_huber_loss': True,\n",
      " 'locref_loss_weight': 1.0,\n",
      " 'locref_stdev': 7.2801,\n",
      " 'log_dir': 'log',\n",
      " 'mean_pixel': [123.68, 116.779, 103.939],\n",
      " 'mirror': False,\n",
      " 'net_type': 'resnet_101',\n",
      " 'num_joints': 15,\n",
      " 'optimizer': 'sgd',\n",
      " 'pairwise_huber_loss': True,\n",
      " 'pairwise_predict': False,\n",
      " 'partaffinityfield_predict': False,\n",
      " 'regularize': False,\n",
      " 'scoremap_dir': 'test',\n",
      " 'shuffle': True,\n",
      " 'snapshot_prefix': '/home/box/coding/CTIR/Moused_2-David-2024-07-05/dlc-models/iteration-1/Moused_2Jul5-trainset80shuffle1/test/snapshot',\n",
      " 'stride': 8.0,\n",
      " 'weigh_negatives': False,\n",
      " 'weigh_only_present_joints': False,\n",
      " 'weigh_part_predictions': False,\n",
      " 'weight_decay': 0.0001}\n"
     ]
    },
    {
     "name": "stderr",
     "output_type": "stream",
     "text": [
      "/home/box/anaconda3/envs/DEEPLABCUT/lib/python3.8/site-packages/tensorflow/python/keras/engine/base_layer_v1.py:1694: UserWarning: `layer.apply` is deprecated and will be removed in a future version. Please use `layer.__call__` method instead.\n",
      "  warnings.warn('`layer.apply` is deprecated and '\n"
     ]
    },
    {
     "name": "stdout",
     "output_type": "stream",
     "text": [
      "Using snapshot-10000 for model /home/box/coding/CTIR/Moused_2-David-2024-07-05/dlc-models/iteration-1/Moused_2Jul5-trainset80shuffle1\n"
     ]
    },
    {
     "name": "stderr",
     "output_type": "stream",
     "text": [
      "2024-07-05 18:53:46.724092: I tensorflow/compiler/xla/stream_executor/cuda/cuda_gpu_executor.cc:982] could not open file to read NUMA node: /sys/bus/pci/devices/0000:02:00.0/numa_node\n",
      "Your kernel may have been built without NUMA support.\n",
      "2024-07-05 18:53:46.724170: I tensorflow/compiler/xla/stream_executor/cuda/cuda_gpu_executor.cc:982] could not open file to read NUMA node: /sys/bus/pci/devices/0000:02:00.0/numa_node\n",
      "Your kernel may have been built without NUMA support.\n",
      "2024-07-05 18:53:46.724183: I tensorflow/compiler/xla/stream_executor/cuda/cuda_gpu_executor.cc:982] could not open file to read NUMA node: /sys/bus/pci/devices/0000:02:00.0/numa_node\n",
      "Your kernel may have been built without NUMA support.\n",
      "2024-07-05 18:53:46.724464: I tensorflow/compiler/xla/stream_executor/cuda/cuda_gpu_executor.cc:982] could not open file to read NUMA node: /sys/bus/pci/devices/0000:02:00.0/numa_node\n",
      "Your kernel may have been built without NUMA support.\n",
      "2024-07-05 18:53:46.724522: I tensorflow/core/common_runtime/gpu/gpu_device.cc:1722] Could not identify NUMA node of platform GPU id 0, defaulting to 0.  Your kernel may not have been built with NUMA support.\n",
      "2024-07-05 18:53:46.724545: I tensorflow/compiler/xla/stream_executor/cuda/cuda_gpu_executor.cc:982] could not open file to read NUMA node: /sys/bus/pci/devices/0000:02:00.0/numa_node\n",
      "Your kernel may have been built without NUMA support.\n",
      "2024-07-05 18:53:46.724557: I tensorflow/core/common_runtime/gpu/gpu_device.cc:1635] Created device /job:localhost/replica:0/task:0/device:GPU:0 with 13297 MB memory:  -> device: 0, name: NVIDIA GeForce RTX 4080 SUPER, pci bus id: 0000:02:00.0, compute capability: 8.9\n"
     ]
    },
    {
     "name": "stdout",
     "output_type": "stream",
     "text": [
      "Starting to analyze %  /home/box/coding/CTIR/videos/experiment_1/E1_side.avi\n",
      "Loading  /home/box/coding/CTIR/videos/experiment_1/E1_side.avi\n",
      "Duration of video [s]:  555.0 , recorded with  30.0 fps!\n",
      "Overall # of frames:  16650  found with (before cropping) frame dimensions:  968 608\n",
      "Starting to extract posture\n"
     ]
    },
    {
     "name": "stderr",
     "output_type": "stream",
     "text": [
      "100%|██████████| 16650/16650 [04:05<00:00, 67.85it/s]\n"
     ]
    },
    {
     "name": "stdout",
     "output_type": "stream",
     "text": [
      "Saving results in /home/box/coding/CTIR/videos/experiment_1...\n",
      "Starting to analyze %  /home/box/coding/CTIR/videos/experiment_1/E1_front.avi\n",
      "Loading  /home/box/coding/CTIR/videos/experiment_1/E1_front.avi\n",
      "Duration of video [s]:  555.0 , recorded with  30.0 fps!\n",
      "Overall # of frames:  16650  found with (before cropping) frame dimensions:  968 608\n",
      "Starting to extract posture\n"
     ]
    },
    {
     "name": "stderr",
     "output_type": "stream",
     "text": [
      "100%|██████████| 16650/16650 [03:54<00:00, 70.86it/s]\n"
     ]
    },
    {
     "name": "stdout",
     "output_type": "stream",
     "text": [
      "Saving results in /home/box/coding/CTIR/videos/experiment_1...\n",
      "Starting to analyze %  /home/box/coding/CTIR/videos/experiment_1/E1_top.avi\n",
      "Loading  /home/box/coding/CTIR/videos/experiment_1/E1_top.avi\n",
      "Duration of video [s]:  555.0 , recorded with  30.0 fps!\n",
      "Overall # of frames:  16650  found with (before cropping) frame dimensions:  968 608\n",
      "Starting to extract posture\n"
     ]
    },
    {
     "name": "stderr",
     "output_type": "stream",
     "text": [
      "100%|██████████| 16650/16650 [03:55<00:00, 70.84it/s]\n"
     ]
    },
    {
     "name": "stdout",
     "output_type": "stream",
     "text": [
      "Saving results in /home/box/coding/CTIR/videos/experiment_1...\n",
      "Starting to analyze %  /home/box/coding/CTIR/videos/experiment_2/E2_side.avi\n",
      "Loading  /home/box/coding/CTIR/videos/experiment_2/E2_side.avi\n",
      "Duration of video [s]:  645.0 , recorded with  30.0 fps!\n",
      "Overall # of frames:  19350  found with (before cropping) frame dimensions:  968 608\n",
      "Starting to extract posture\n"
     ]
    },
    {
     "name": "stderr",
     "output_type": "stream",
     "text": [
      "100%|██████████| 19350/19350 [04:33<00:00, 70.76it/s]\n"
     ]
    },
    {
     "name": "stdout",
     "output_type": "stream",
     "text": [
      "Saving results in /home/box/coding/CTIR/videos/experiment_2...\n",
      "Starting to analyze %  /home/box/coding/CTIR/videos/experiment_2/E2_front.avi\n",
      "Loading  /home/box/coding/CTIR/videos/experiment_2/E2_front.avi\n",
      "Duration of video [s]:  645.0 , recorded with  30.0 fps!\n",
      "Overall # of frames:  19350  found with (before cropping) frame dimensions:  968 608\n",
      "Starting to extract posture\n"
     ]
    },
    {
     "name": "stderr",
     "output_type": "stream",
     "text": [
      "100%|██████████| 19350/19350 [04:32<00:00, 70.93it/s]\n"
     ]
    },
    {
     "name": "stdout",
     "output_type": "stream",
     "text": [
      "Saving results in /home/box/coding/CTIR/videos/experiment_2...\n",
      "Starting to analyze %  /home/box/coding/CTIR/videos/experiment_2/E2_top.avi\n",
      "Loading  /home/box/coding/CTIR/videos/experiment_2/E2_top.avi\n",
      "Duration of video [s]:  645.0 , recorded with  30.0 fps!\n",
      "Overall # of frames:  19350  found with (before cropping) frame dimensions:  968 608\n",
      "Starting to extract posture\n"
     ]
    },
    {
     "name": "stderr",
     "output_type": "stream",
     "text": [
      "100%|██████████| 19350/19350 [04:32<00:00, 70.97it/s]"
     ]
    },
    {
     "name": "stdout",
     "output_type": "stream",
     "text": [
      "Saving results in /home/box/coding/CTIR/videos/experiment_2...\n",
      "The videos are analyzed. Now your research can truly start! \n",
      " You can create labeled videos with 'create_labeled_video'\n",
      "If the tracking is not satisfactory for some videos, consider expanding the training set. You can use the function 'extract_outlier_frames' to extract a few representative outlier frames.\n"
     ]
    },
    {
     "name": "stderr",
     "output_type": "stream",
     "text": [
      "\n"
     ]
    },
    {
     "name": "stdout",
     "output_type": "stream",
     "text": [
      "Starting to process video: /home/box/coding/CTIR/videos/experiment_1/E1_top.aviStarting to process video: /home/box/coding/CTIR/videos/experiment_2/E2_side.aviStarting to process video: /home/box/coding/CTIR/videos/experiment_1/E1_side.aviStarting to process video: /home/box/coding/CTIR/videos/experiment_1/E1_front.aviStarting to process video: /home/box/coding/CTIR/videos/experiment_2/E2_top.aviStarting to process video: /home/box/coding/CTIR/videos/experiment_2/E2_front.avi\n",
      "\n",
      "\n",
      "\n",
      "\n",
      "\n",
      "Loading /home/box/coding/CTIR/videos/experiment_1/E1_top.avi and data.Loading /home/box/coding/CTIR/videos/experiment_2/E2_side.avi and data.Loading /home/box/coding/CTIR/videos/experiment_2/E2_top.avi and data.Loading /home/box/coding/CTIR/videos/experiment_1/E1_front.avi and data.Loading /home/box/coding/CTIR/videos/experiment_2/E2_front.avi and data.Loading /home/box/coding/CTIR/videos/experiment_1/E1_side.avi and data.\n",
      "\n",
      "\n",
      "\n",
      "\n",
      "\n",
      "Duration of video [s]: 645.0, recorded with 30.0 fps!Duration of video [s]: 555.0, recorded with 30.0 fps!\n",
      "\n",
      "Duration of video [s]: 645.0, recorded with 30.0 fps!Overall # of frames: 19350 with cropped frame dimensions: 968 608Overall # of frames: 16650 with cropped frame dimensions: 968 608\n",
      "\n",
      "\n",
      "Generating frames and creating video.Overall # of frames: 19350 with cropped frame dimensions: 968 608Generating frames and creating video.\n",
      "Duration of video [s]: 555.0, recorded with 30.0 fps!Duration of video [s]: 645.0, recorded with 30.0 fps!\n",
      "\n",
      "\n",
      "\n",
      "Generating frames and creating video.Overall # of frames: 16650 with cropped frame dimensions: 968 608Overall # of frames: 19350 with cropped frame dimensions: 968 608\n",
      "\n",
      "\n",
      "Generating frames and creating video.Generating frames and creating video.\n",
      "\n"
     ]
    },
    {
     "name": "stderr",
     "output_type": "stream",
     "text": [
      "  0%|          | 0/19350 [00:00<?, ?it/s]"
     ]
    },
    {
     "name": "stdout",
     "output_type": "stream",
     "text": [
      "Duration of video [s]: 555.0, recorded with 30.0 fps!\n"
     ]
    },
    {
     "name": "stderr",
     "output_type": "stream",
     "text": [
      "  0%|          | 0/16650 [00:00<?, ?it/s]"
     ]
    },
    {
     "name": "stdout",
     "output_type": "stream",
     "text": [
      "Overall # of frames: 16650 with cropped frame dimensions: 968 608"
     ]
    },
    {
     "name": "stderr",
     "output_type": "stream",
     "text": [
      "  0%|          | 0/19350 [00:00<?, ?it/s]"
     ]
    },
    {
     "name": "stdout",
     "output_type": "stream",
     "text": [
      "\n",
      "Generating frames and creating video.\n"
     ]
    },
    {
     "name": "stderr",
     "output_type": "stream",
     "text": [
      "100%|██████████| 16650/16650 [02:17<00:00, 120.92it/s]\n",
      "100%|██████████| 16650/16650 [02:19<00:00, 119.58it/s]\n",
      "100%|██████████| 16650/16650 [02:19<00:00, 119.26it/s]\n",
      "100%|██████████| 19350/19350 [02:31<00:00, 127.39it/s]\n",
      "100%|██████████| 19350/19350 [02:32<00:00, 126.81it/s]\n",
      "100%|██████████| 19350/19350 [02:33<00:00, 126.18it/s]\n"
     ]
    },
    {
     "data": {
      "text/plain": [
       "[True, True, True, True, True, True]"
      ]
     },
     "execution_count": 16,
     "metadata": {},
     "output_type": "execute_result"
    }
   ],
   "source": [
    "deeplabcut.analyze_videos(config_path,video_paths)\n",
    "deeplabcut.create_labeled_video(config_path,video_paths)"
   ]
  },
  {
   "cell_type": "code",
   "execution_count": null,
   "metadata": {},
   "outputs": [],
   "source": []
  },
  {
   "cell_type": "code",
   "execution_count": null,
   "metadata": {},
   "outputs": [],
   "source": []
  },
  {
   "cell_type": "code",
   "execution_count": null,
   "metadata": {},
   "outputs": [],
   "source": []
  }
 ],
 "metadata": {
  "kernelspec": {
   "display_name": "DEEPLABCUT",
   "language": "python",
   "name": "python3"
  },
  "language_info": {
   "codemirror_mode": {
    "name": "ipython",
    "version": 3
   },
   "file_extension": ".py",
   "mimetype": "text/x-python",
   "name": "python",
   "nbconvert_exporter": "python",
   "pygments_lexer": "ipython3",
   "version": "3.8.-1"
  }
 },
 "nbformat": 4,
 "nbformat_minor": 2
}
