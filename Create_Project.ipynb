{
 "cells": [
  {
   "cell_type": "code",
   "execution_count": 1,
   "metadata": {},
   "outputs": [
    {
     "name": "stderr",
     "output_type": "stream",
     "text": [
      "2024-05-18 18:09:33.397556: I tensorflow/core/util/port.cc:110] oneDNN custom operations are on. You may see slightly different numerical results due to floating-point round-off errors from different computation orders. To turn them off, set the environment variable `TF_ENABLE_ONEDNN_OPTS=0`.\n",
      "2024-05-18 18:09:33.424642: I tensorflow/core/platform/cpu_feature_guard.cc:182] This TensorFlow binary is optimized to use available CPU instructions in performance-critical operations.\n",
      "To enable the following instructions: AVX2 AVX512F AVX512_VNNI FMA, in other operations, rebuild TensorFlow with the appropriate compiler flags.\n"
     ]
    },
    {
     "name": "stdout",
     "output_type": "stream",
     "text": [
      "Loading DLC 2.3.9...\n",
      "TensorFlow version: 2.12.0\n",
      "CUDA version: 11.8\n",
      "cuDNN version: 8\n",
      "Num GPUs Available:  1\n",
      "10.0.1\n"
     ]
    },
    {
     "name": "stderr",
     "output_type": "stream",
     "text": [
      "2024-05-18 18:09:35.900823: I tensorflow/compiler/xla/stream_executor/cuda/cuda_gpu_executor.cc:982] could not open file to read NUMA node: /sys/bus/pci/devices/0000:02:00.0/numa_node\n",
      "Your kernel may have been built without NUMA support.\n",
      "2024-05-18 18:09:35.937418: I tensorflow/compiler/xla/stream_executor/cuda/cuda_gpu_executor.cc:982] could not open file to read NUMA node: /sys/bus/pci/devices/0000:02:00.0/numa_node\n",
      "Your kernel may have been built without NUMA support.\n",
      "2024-05-18 18:09:35.937449: I tensorflow/compiler/xla/stream_executor/cuda/cuda_gpu_executor.cc:982] could not open file to read NUMA node: /sys/bus/pci/devices/0000:02:00.0/numa_node\n",
      "Your kernel may have been built without NUMA support.\n"
     ]
    }
   ],
   "source": [
    "import deeplabcut\n",
    "import tensorflow as tf\n",
    "import tensorrt as trt\n",
    "\n",
    "print(\"TensorFlow version:\", tf.__version__)\n",
    "print(\"CUDA version:\", tf.sysconfig.get_build_info()[\"cuda_version\"])\n",
    "print(\"cuDNN version:\", tf.sysconfig.get_build_info()[\"cudnn_version\"])\n",
    "print(\"Num GPUs Available: \", len(tf.config.list_physical_devices('GPU')))\n",
    "print(trt.__version__)"
   ]
  },
  {
   "cell_type": "code",
   "execution_count": 4,
   "metadata": {},
   "outputs": [
    {
     "name": "stdout",
     "output_type": "stream",
     "text": [
      "Created \"/home/box/coding/CTIR/Moused-David-2024-05-18/videos\"\n",
      "Created \"/home/box/coding/CTIR/Moused-David-2024-05-18/labeled-data\"\n",
      "Created \"/home/box/coding/CTIR/Moused-David-2024-05-18/training-datasets\"\n",
      "Created \"/home/box/coding/CTIR/Moused-David-2024-05-18/dlc-models\"\n",
      "Attempting to create a symbolic link of the video ...\n",
      "Created the symlink of /home/box/coding/CTIR/videos/experiment_1/E1_front.avi to /home/box/coding/CTIR/Moused-David-2024-05-18/videos/E1_front.avi\n",
      "Created the symlink of /home/box/coding/CTIR/videos/experiment_1/E1_side.avi to /home/box/coding/CTIR/Moused-David-2024-05-18/videos/E1_side.avi\n",
      "Created the symlink of /home/box/coding/CTIR/videos/experiment_1/E1_top.avi to /home/box/coding/CTIR/Moused-David-2024-05-18/videos/E1_top.avi\n",
      "Created the symlink of /home/box/coding/CTIR/videos/experiment_2/E2_front.avi to /home/box/coding/CTIR/Moused-David-2024-05-18/videos/E2_front.avi\n",
      "Created the symlink of /home/box/coding/CTIR/videos/experiment_2/E2_side.avi to /home/box/coding/CTIR/Moused-David-2024-05-18/videos/E2_side.avi\n",
      "Created the symlink of /home/box/coding/CTIR/videos/experiment_2/E2_top.avi to /home/box/coding/CTIR/Moused-David-2024-05-18/videos/E2_top.avi\n",
      "/home/box/coding/CTIR/Moused-David-2024-05-18/videos/E1_front.avi\n",
      "/home/box/coding/CTIR/Moused-David-2024-05-18/videos/E1_side.avi\n",
      "/home/box/coding/CTIR/Moused-David-2024-05-18/videos/E1_top.avi\n",
      "/home/box/coding/CTIR/Moused-David-2024-05-18/videos/E2_front.avi\n",
      "/home/box/coding/CTIR/Moused-David-2024-05-18/videos/E2_side.avi\n",
      "/home/box/coding/CTIR/Moused-David-2024-05-18/videos/E2_top.avi\n",
      "Generated \"/home/box/coding/CTIR/Moused-David-2024-05-18/config.yaml\"\n",
      "\n",
      "A new project with name Moused-David-2024-05-18 is created at /home/box/coding/CTIR and a configurable file (config.yaml) is stored there. Change the parameters in this file to adapt to your project's needs.\n",
      " Once you have changed the configuration file, use the function 'extract_frames' to select frames for labeling.\n",
      ". [OPTIONAL] Use the function 'add_new_videos' to add new videos to your project (at any stage).\n"
     ]
    }
   ],
   "source": [
    "# only using experiment ONE to see how strongly it generalizes\n",
    "deeplabcut.create_new_project('Moused', 'David', ['/home/box/coding/CTIR/videos/experiment_1/E1_front.avi', '/home/box/coding/CTIR/videos/experiment_1/E1_side.avi', '/home/box/coding/CTIR/videos/experiment_1/E1_top.avi',\n",
    "                                                '/home/box/coding/CTIR/videos/experiment_2/E2_front.avi','/home/box/coding/CTIR/videos/experiment_2/E2_side.avi','/home/box/coding/CTIR/videos/experiment_2/E2_top.avi'])\n",
    "config_path = '/home/box/coding/CTIR/Moused-David-2024-05-18/config.yaml'"
   ]
  },
  {
   "cell_type": "markdown",
   "metadata": {},
   "source": [
    "# adapt the config yaml\n",
    "- bodyparts:\n",
    "    - nose\n",
    "    - ear_left\n",
    "    - ear_right\n",
    "    - eye_left\n",
    "    - eye_right\n",
    "    - paw_front_right\n",
    "    - paw_front_left\n",
    "    - paw_hind_right\n",
    "    - paw_hind_left\n",
    "    - tail_base\n",
    "    - lever_tip\n",
    "    - upper_lever_tip\n",
    "    - stick_head\n",
    "    - ball\n",
    "    - sliding_door\n",
    "- numframes2pick\n",
    "    - 30; increase later if tracker not working well"
   ]
  },
  {
   "cell_type": "code",
   "execution_count": 27,
   "metadata": {},
   "outputs": [
    {
     "name": "stdout",
     "output_type": "stream",
     "text": [
      "Config file read successfully.\n",
      "Extracting frames based on uniform ...\n",
      "Uniformly extracting of frames from 0.0  seconds to 555.0  seconds.\n",
      "Extracting frames based on uniform ...\n",
      "Uniformly extracting of frames from 0.0  seconds to 555.0  seconds.\n",
      "Extracting frames based on uniform ...\n",
      "Uniformly extracting of frames from 0.0  seconds to 555.0  seconds.\n",
      "Extracting frames based on uniform ...\n",
      "Uniformly extracting of frames from 0.0  seconds to 645.0  seconds.\n",
      "Extracting frames based on uniform ...\n",
      "Uniformly extracting of frames from 0.0  seconds to 645.0  seconds.\n",
      "Extracting frames based on uniform ...\n",
      "Uniformly extracting of frames from 0.0  seconds to 645.0  seconds.\n",
      "Frames were successfully extracted, for the videos listed in the config.yaml file.\n",
      "\n",
      "You can now label the frames using the function 'label_frames' (Note, you should label frames extracted from diverse videos (and many videos; we do not recommend training on single videos!)).\n"
     ]
    }
   ],
   "source": [
    "deeplabcut.extract_frames(config_path, algo='uniform', userfeedback=False)"
   ]
  },
  {
   "cell_type": "markdown",
   "metadata": {},
   "source": [
    "- When selecting frames to label:\n",
    "    - variety of poses\n",
    "    - body part visibility\n",
    "    - activity diverstiy\n",
    "    - temporal distribution\n",
    "    - clear images\n",
    "    - different light conditions"
   ]
  },
  {
   "cell_type": "code",
   "execution_count": 34,
   "metadata": {},
   "outputs": [
    {
     "name": "stderr",
     "output_type": "stream",
     "text": [
      "/home/box/anaconda3/envs/DEEPLABCUT/lib/python3.8/site-packages/napari/_qt/qt_viewer.py:424: UserWarning: Attempting to unbind an action which does not exists (napari:cycle_through_color_modes), this may have no effects. This can happen if your settings are out of date, if you upgraded napari, upgraded or deactivated a plugin, or made a typo in in your custom keybinding.\n",
      "  action_manager.unbind_shortcut(action)\n"
     ]
    }
   ],
   "source": [
    "deeplabcut.label_frames(config_path)"
   ]
  },
  {
   "cell_type": "code",
   "execution_count": 37,
   "metadata": {},
   "outputs": [
    {
     "name": "stdout",
     "output_type": "stream",
     "text": [
      "The training dataset is successfully created. Use the function 'train_network' to start training. Happy training!\n"
     ]
    },
    {
     "data": {
      "text/plain": [
       "[(0.9,\n",
       "  1,\n",
       "  (array([22, 11, 16,  6, 26, 14,  9, 20, 25, 28, 10, 23, 24, 36,  1, 27,  5,\n",
       "          39, 34, 19,  8,  7, 17,  4, 37,  3, 13, 31, 29, 38, 21, 32,  0, 18,\n",
       "          33,  2]),\n",
       "   array([35, 30, 15, 12])))]"
      ]
     },
     "execution_count": 37,
     "metadata": {},
     "output_type": "execute_result"
    }
   ],
   "source": [
    "# There are many more functions you can set here, including which network to use. Check the docstring for full options you can do!\n",
    "deeplabcut.create_training_dataset(config_path, net_type='resnet_50', augmenter_type='imgaug')"
   ]
  },
  {
   "cell_type": "code",
   "execution_count": 38,
   "metadata": {},
   "outputs": [
    {
     "name": "stderr",
     "output_type": "stream",
     "text": [
      "Config:\n",
      "{'all_joints': [[0], [1], [2], [3], [4], [5], [6], [7], [8]],\n",
      " 'all_joints_names': ['nose',\n",
      "                      'ear_left',\n",
      "                      'ear_right',\n",
      "                      'tail_base',\n",
      "                      'lever_tip',\n",
      "                      'upper_lever_tip',\n",
      "                      'stick_head',\n",
      "                      'ball',\n",
      "                      'sliding_door'],\n",
      " 'alpha_r': 0.02,\n",
      " 'apply_prob': 0.5,\n",
      " 'batch_size': 1,\n",
      " 'contrast': {'clahe': True,\n",
      "              'claheratio': 0.1,\n",
      "              'histeq': True,\n",
      "              'histeqratio': 0.1},\n",
      " 'convolution': {'edge': False,\n",
      "                 'emboss': {'alpha': [0.0, 1.0], 'strength': [0.5, 1.5]},\n",
      "                 'embossratio': 0.1,\n",
      "                 'sharpen': False,\n",
      "                 'sharpenratio': 0.3},\n",
      " 'crop_pad': 0,\n",
      " 'cropratio': 0.4,\n",
      " 'dataset': 'training-datasets/iteration-0/UnaugmentedDataSet_MousedMay18/Moused_David90shuffle1.mat',\n",
      " 'dataset_type': 'imgaug',\n",
      " 'decay_steps': 30000,\n",
      " 'deterministic': False,\n",
      " 'display_iters': 1000,\n",
      " 'fg_fraction': 0.25,\n",
      " 'global_scale': 0.8,\n",
      " 'init_weights': '/home/box/anaconda3/envs/DEEPLABCUT/lib/python3.8/site-packages/deeplabcut/pose_estimation_tensorflow/models/pretrained/resnet_v1_50.ckpt',\n",
      " 'intermediate_supervision': False,\n",
      " 'intermediate_supervision_layer': 12,\n",
      " 'location_refinement': True,\n",
      " 'locref_huber_loss': True,\n",
      " 'locref_loss_weight': 0.05,\n",
      " 'locref_stdev': 7.2801,\n",
      " 'log_dir': 'log',\n",
      " 'lr_init': 0.0005,\n",
      " 'max_input_size': 1500,\n",
      " 'mean_pixel': [123.68, 116.779, 103.939],\n",
      " 'metadataset': 'training-datasets/iteration-0/UnaugmentedDataSet_MousedMay18/Documentation_data-Moused_90shuffle1.pickle',\n",
      " 'min_input_size': 64,\n",
      " 'mirror': False,\n",
      " 'multi_stage': False,\n",
      " 'multi_step': [[0.005, 10000],\n",
      "                [0.02, 430000],\n",
      "                [0.002, 730000],\n",
      "                [0.001, 1030000]],\n",
      " 'net_type': 'resnet_50',\n",
      " 'num_joints': 9,\n",
      " 'optimizer': 'sgd',\n",
      " 'pairwise_huber_loss': False,\n",
      " 'pairwise_predict': False,\n",
      " 'partaffinityfield_predict': False,\n",
      " 'pos_dist_thresh': 17,\n",
      " 'project_path': '/home/box/coding/CTIR/Moused-David-2024-05-18',\n",
      " 'regularize': False,\n",
      " 'rotation': 25,\n",
      " 'rotratio': 0.4,\n",
      " 'save_iters': 50000,\n",
      " 'scale_jitter_lo': 0.5,\n",
      " 'scale_jitter_up': 1.25,\n",
      " 'scoremap_dir': 'test',\n",
      " 'shuffle': True,\n",
      " 'snapshot_prefix': '/home/box/coding/CTIR/Moused-David-2024-05-18/dlc-models/iteration-0/MousedMay18-trainset90shuffle1/train/snapshot',\n",
      " 'stride': 8.0,\n",
      " 'weigh_negatives': False,\n",
      " 'weigh_only_present_joints': False,\n",
      " 'weigh_part_predictions': False,\n",
      " 'weight_decay': 0.0001}\n"
     ]
    },
    {
     "name": "stdout",
     "output_type": "stream",
     "text": [
      "Selecting single-animal trainer\n",
      "Batch Size is 1\n"
     ]
    },
    {
     "name": "stderr",
     "output_type": "stream",
     "text": [
      "/home/box/anaconda3/envs/DEEPLABCUT/lib/python3.8/site-packages/tensorflow/python/keras/engine/base_layer_v1.py:1694: UserWarning: `layer.apply` is deprecated and will be removed in a future version. Please use `layer.__call__` method instead.\n",
      "  warnings.warn('`layer.apply` is deprecated and '\n"
     ]
    },
    {
     "name": "stdout",
     "output_type": "stream",
     "text": [
      "Loading ImageNet-pretrained resnet_50\n"
     ]
    },
    {
     "name": "stderr",
     "output_type": "stream",
     "text": [
      "2024-05-19 10:32:32.834854: I tensorflow/compiler/xla/stream_executor/cuda/cuda_gpu_executor.cc:982] could not open file to read NUMA node: /sys/bus/pci/devices/0000:02:00.0/numa_node\n",
      "Your kernel may have been built without NUMA support.\n",
      "2024-05-19 10:32:32.834957: I tensorflow/compiler/xla/stream_executor/cuda/cuda_gpu_executor.cc:982] could not open file to read NUMA node: /sys/bus/pci/devices/0000:02:00.0/numa_node\n",
      "Your kernel may have been built without NUMA support.\n",
      "2024-05-19 10:32:32.834989: I tensorflow/compiler/xla/stream_executor/cuda/cuda_gpu_executor.cc:982] could not open file to read NUMA node: /sys/bus/pci/devices/0000:02:00.0/numa_node\n",
      "Your kernel may have been built without NUMA support.\n",
      "2024-05-19 10:32:32.835307: I tensorflow/compiler/xla/stream_executor/cuda/cuda_gpu_executor.cc:982] could not open file to read NUMA node: /sys/bus/pci/devices/0000:02:00.0/numa_node\n",
      "Your kernel may have been built without NUMA support.\n",
      "2024-05-19 10:32:32.835320: I tensorflow/core/common_runtime/gpu/gpu_device.cc:1722] Could not identify NUMA node of platform GPU id 0, defaulting to 0.  Your kernel may not have been built with NUMA support.\n",
      "2024-05-19 10:32:32.835339: I tensorflow/compiler/xla/stream_executor/cuda/cuda_gpu_executor.cc:982] could not open file to read NUMA node: /sys/bus/pci/devices/0000:02:00.0/numa_node\n",
      "Your kernel may have been built without NUMA support.\n",
      "2024-05-19 10:32:32.835353: I tensorflow/core/common_runtime/gpu/gpu_device.cc:1635] Created device /job:localhost/replica:0/task:0/device:GPU:0 with 13297 MB memory:  -> device: 0, name: NVIDIA GeForce RTX 4080 SUPER, pci bus id: 0000:02:00.0, compute capability: 8.9\n",
      "2024-05-19 10:32:34.516072: W tensorflow/c/c_api.cc:300] Operation '{name:'resnet_v1_50/block3/unit_4/bottleneck_v1/conv3/BatchNorm/gamma/Momentum/Assign' id:5864 op device:{requested: '', assigned: ''} def:{{{node resnet_v1_50/block3/unit_4/bottleneck_v1/conv3/BatchNorm/gamma/Momentum/Assign}} = AssignVariableOp[_has_manual_control_dependencies=true, dtype=DT_FLOAT, validate_shape=false](resnet_v1_50/block3/unit_4/bottleneck_v1/conv3/BatchNorm/gamma/Momentum, resnet_v1_50/block3/unit_4/bottleneck_v1/conv3/BatchNorm/gamma/Momentum/Initializer/zeros)}}' was changed by setting attribute after it was run by a session. This mutation will have no effect, and will trigger an error in the future. Either don't modify nodes after running them or create a new session.\n",
      "2024-05-19 10:32:34.587783: W tensorflow/c/c_api.cc:300] Operation '{name:'pose/locref_pred/block4/biases/Momentum/Assign' id:6191 op device:{requested: '', assigned: ''} def:{{{node pose/locref_pred/block4/biases/Momentum/Assign}} = AssignVariableOp[_has_manual_control_dependencies=true, dtype=DT_FLOAT, validate_shape=false](pose/locref_pred/block4/biases/Momentum, pose/locref_pred/block4/biases/Momentum/Initializer/zeros)}}' was changed by setting attribute after it was run by a session. This mutation will have no effect, and will trigger an error in the future. Either don't modify nodes after running them or create a new session.\n"
     ]
    },
    {
     "name": "stdout",
     "output_type": "stream",
     "text": [
      "Max_iters overwritten as 15000\n",
      "Display_iters overwritten as 300\n",
      "Save_iters overwritten as 5000\n",
      "Training parameter:\n",
      "{'stride': 8.0, 'weigh_part_predictions': False, 'weigh_negatives': False, 'fg_fraction': 0.25, 'mean_pixel': [123.68, 116.779, 103.939], 'shuffle': True, 'snapshot_prefix': '/home/box/coding/CTIR/Moused-David-2024-05-18/dlc-models/iteration-0/MousedMay18-trainset90shuffle1/train/snapshot', 'log_dir': 'log', 'global_scale': 0.8, 'location_refinement': True, 'locref_stdev': 7.2801, 'locref_loss_weight': 0.05, 'locref_huber_loss': True, 'optimizer': 'sgd', 'intermediate_supervision': False, 'intermediate_supervision_layer': 12, 'regularize': False, 'weight_decay': 0.0001, 'crop_pad': 0, 'scoremap_dir': 'test', 'batch_size': 1, 'dataset_type': 'imgaug', 'deterministic': False, 'mirror': False, 'pairwise_huber_loss': False, 'weigh_only_present_joints': False, 'partaffinityfield_predict': False, 'pairwise_predict': False, 'all_joints': [[0], [1], [2], [3], [4], [5], [6], [7], [8]], 'all_joints_names': ['nose', 'ear_left', 'ear_right', 'tail_base', 'lever_tip', 'upper_lever_tip', 'stick_head', 'ball', 'sliding_door'], 'alpha_r': 0.02, 'apply_prob': 0.5, 'contrast': {'clahe': True, 'claheratio': 0.1, 'histeq': True, 'histeqratio': 0.1, 'gamma': False, 'sigmoid': False, 'log': False, 'linear': False}, 'convolution': {'edge': False, 'emboss': {'alpha': [0.0, 1.0], 'strength': [0.5, 1.5]}, 'embossratio': 0.1, 'sharpen': False, 'sharpenratio': 0.3}, 'cropratio': 0.4, 'dataset': 'training-datasets/iteration-0/UnaugmentedDataSet_MousedMay18/Moused_David90shuffle1.mat', 'decay_steps': 30000, 'display_iters': 1000, 'init_weights': '/home/box/anaconda3/envs/DEEPLABCUT/lib/python3.8/site-packages/deeplabcut/pose_estimation_tensorflow/models/pretrained/resnet_v1_50.ckpt', 'lr_init': 0.0005, 'max_input_size': 1500, 'metadataset': 'training-datasets/iteration-0/UnaugmentedDataSet_MousedMay18/Documentation_data-Moused_90shuffle1.pickle', 'min_input_size': 64, 'multi_stage': False, 'multi_step': [[0.005, 10000], [0.02, 430000], [0.002, 730000], [0.001, 1030000]], 'net_type': 'resnet_50', 'num_joints': 9, 'pos_dist_thresh': 17, 'project_path': '/home/box/coding/CTIR/Moused-David-2024-05-18', 'rotation': 25, 'rotratio': 0.4, 'save_iters': 50000, 'scale_jitter_lo': 0.5, 'scale_jitter_up': 1.25, 'covering': True, 'elastic_transform': True, 'motion_blur': True, 'motion_blur_params': {'k': 7, 'angle': (-90, 90)}}\n",
      "Starting training....\n"
     ]
    },
    {
     "name": "stderr",
     "output_type": "stream",
     "text": [
      "iteration: 300 loss: 0.0421 lr: 0.005\n",
      "iteration: 600 loss: 0.0244 lr: 0.005\n",
      "iteration: 900 loss: 0.0224 lr: 0.005\n",
      "iteration: 1200 loss: 0.0211 lr: 0.005\n",
      "iteration: 1500 loss: 0.0196 lr: 0.005\n",
      "iteration: 1800 loss: 0.0186 lr: 0.005\n",
      "iteration: 2100 loss: 0.0175 lr: 0.005\n",
      "iteration: 2400 loss: 0.0164 lr: 0.005\n",
      "iteration: 2700 loss: 0.0156 lr: 0.005\n",
      "iteration: 3000 loss: 0.0148 lr: 0.005\n",
      "iteration: 3300 loss: 0.0142 lr: 0.005\n",
      "iteration: 3600 loss: 0.0135 lr: 0.005\n",
      "iteration: 3900 loss: 0.0126 lr: 0.005\n",
      "iteration: 4200 loss: 0.0123 lr: 0.005\n",
      "iteration: 4500 loss: 0.0121 lr: 0.005\n",
      "iteration: 4800 loss: 0.0113 lr: 0.005\n",
      "iteration: 5100 loss: 0.0110 lr: 0.005\n",
      "iteration: 5400 loss: 0.0108 lr: 0.005\n",
      "iteration: 5700 loss: 0.0107 lr: 0.005\n",
      "iteration: 6000 loss: 0.0104 lr: 0.005\n",
      "iteration: 6300 loss: 0.0101 lr: 0.005\n",
      "iteration: 6600 loss: 0.0096 lr: 0.005\n",
      "iteration: 6900 loss: 0.0094 lr: 0.005\n",
      "iteration: 7200 loss: 0.0091 lr: 0.005\n",
      "iteration: 7500 loss: 0.0091 lr: 0.005\n",
      "iteration: 7800 loss: 0.0084 lr: 0.005\n",
      "iteration: 8100 loss: 0.0086 lr: 0.005\n",
      "iteration: 8400 loss: 0.0085 lr: 0.005\n",
      "iteration: 8700 loss: 0.0083 lr: 0.005\n",
      "iteration: 9000 loss: 0.0080 lr: 0.005\n",
      "iteration: 9300 loss: 0.0079 lr: 0.005\n",
      "iteration: 9600 loss: 0.0076 lr: 0.005\n",
      "iteration: 9900 loss: 0.0079 lr: 0.005\n",
      "iteration: 10200 loss: 0.0094 lr: 0.02\n",
      "iteration: 10500 loss: 0.0097 lr: 0.02\n",
      "iteration: 10800 loss: 0.0088 lr: 0.02\n",
      "iteration: 11100 loss: 0.0085 lr: 0.02\n",
      "iteration: 11400 loss: 0.0080 lr: 0.02\n",
      "iteration: 11700 loss: 0.0077 lr: 0.02\n",
      "iteration: 12000 loss: 0.0076 lr: 0.02\n",
      "iteration: 12300 loss: 0.0069 lr: 0.02\n",
      "iteration: 12600 loss: 0.0067 lr: 0.02\n",
      "iteration: 12900 loss: 0.0064 lr: 0.02\n",
      "iteration: 13200 loss: 0.0061 lr: 0.02\n",
      "iteration: 13500 loss: 0.0060 lr: 0.02\n",
      "iteration: 13800 loss: 0.0059 lr: 0.02\n",
      "iteration: 14100 loss: 0.0057 lr: 0.02\n",
      "iteration: 14400 loss: 0.0056 lr: 0.02\n",
      "iteration: 14700 loss: 0.0056 lr: 0.02\n",
      "iteration: 15000 loss: 0.0054 lr: 0.02\n",
      "2024-05-19 10:42:33.268045: I tensorflow/core/common_runtime/executor.cc:1197] [/job:localhost/replica:0/task:0/device:CPU:0] (DEBUG INFO) Executor start aborting (this does not indicate an error and you can ignore this message): CANCELLED: Enqueue operation was cancelled\n",
      "\t [[{{node fifo_queue_enqueue}}]]\n",
      "2024-05-19 10:42:33.268095: W tensorflow/core/kernels/queue_base.cc:277] _1_fifo_queue: Skipping cancelled enqueue attempt with queue not closed\n",
      "Exception in thread Thread-32:\n",
      "Traceback (most recent call last):\n",
      "  File \"/home/box/anaconda3/envs/DEEPLABCUT/lib/python3.8/site-packages/tensorflow/python/client/session.py\", line 1378, in _do_call\n",
      "    return fn(*args)\n",
      "  File \"/home/box/anaconda3/envs/DEEPLABCUT/lib/python3.8/site-packages/tensorflow/python/client/session.py\", line 1361, in _run_fn\n",
      "    return self._call_tf_sessionrun(options, feed_dict, fetch_list,\n",
      "  File \"/home/box/anaconda3/envs/DEEPLABCUT/lib/python3.8/site-packages/tensorflow/python/client/session.py\", line 1454, in _call_tf_sessionrun\n",
      "    return tf_session.TF_SessionRun_wrapper(self._session, options, feed_dict,\n",
      "tensorflow.python.framework.errors_impl.CancelledError: Enqueue operation was cancelled\n",
      "\t [[{{node fifo_queue_enqueue}}]]\n",
      "\n",
      "During handling of the above exception, another exception occurred:\n",
      "\n",
      "Traceback (most recent call last):\n",
      "  File \"/home/box/anaconda3/envs/DEEPLABCUT/lib/python3.8/threading.py\", line 932, in _bootstrap_inner\n",
      "    self.run()\n",
      "  File \"/home/box/anaconda3/envs/DEEPLABCUT/lib/python3.8/site-packages/ipykernel/ipkernel.py\", line 761, in run_closure\n",
      "    _threading_Thread_run(self)\n",
      "  File \"/home/box/anaconda3/envs/DEEPLABCUT/lib/python3.8/threading.py\", line 870, in run\n",
      "    self._target(*self._args, **self._kwargs)\n",
      "  File \"/home/box/anaconda3/envs/DEEPLABCUT/lib/python3.8/site-packages/deeplabcut/pose_estimation_tensorflow/core/train.py\", line 86, in load_and_enqueue\n",
      "    sess.run(enqueue_op, feed_dict=food)\n",
      "  File \"/home/box/anaconda3/envs/DEEPLABCUT/lib/python3.8/site-packages/tensorflow/python/client/session.py\", line 968, in run\n",
      "    result = self._run(None, fetches, feed_dict, options_ptr,\n",
      "  File \"/home/box/anaconda3/envs/DEEPLABCUT/lib/python3.8/site-packages/tensorflow/python/client/session.py\", line 1191, in _run\n",
      "    results = self._do_run(handle, final_targets, final_fetches,\n",
      "  File \"/home/box/anaconda3/envs/DEEPLABCUT/lib/python3.8/site-packages/tensorflow/python/client/session.py\", line 1371, in _do_run\n",
      "    return self._do_call(_run_fn, feeds, fetches, targets, options,\n",
      "  File \"/home/box/anaconda3/envs/DEEPLABCUT/lib/python3.8/site-packages/tensorflow/python/client/session.py\", line 1397, in _do_call\n",
      "    raise type(e)(node_def, op, message)  # pylint: disable=no-value-for-parameter\n",
      "tensorflow.python.framework.errors_impl.CancelledError: Graph execution error:\n",
      "\n",
      "Detected at node 'fifo_queue_enqueue' defined at (most recent call last):\n",
      "    File \"/home/box/anaconda3/envs/DEEPLABCUT/lib/python3.8/runpy.py\", line 194, in _run_module_as_main\n",
      "      return _run_code(code, main_globals, None,\n",
      "    File \"/home/box/anaconda3/envs/DEEPLABCUT/lib/python3.8/runpy.py\", line 87, in _run_code\n",
      "      exec(code, run_globals)\n",
      "    File \"/home/box/anaconda3/envs/DEEPLABCUT/lib/python3.8/site-packages/ipykernel_launcher.py\", line 18, in <module>\n",
      "      app.launch_new_instance()\n",
      "    File \"/home/box/anaconda3/envs/DEEPLABCUT/lib/python3.8/site-packages/traitlets/config/application.py\", line 1075, in launch_instance\n",
      "      app.start()\n",
      "    File \"/home/box/anaconda3/envs/DEEPLABCUT/lib/python3.8/site-packages/ipykernel/kernelapp.py\", line 739, in start\n",
      "      self.io_loop.start()\n",
      "    File \"/home/box/anaconda3/envs/DEEPLABCUT/lib/python3.8/site-packages/tornado/platform/asyncio.py\", line 205, in start\n",
      "      self.asyncio_loop.run_forever()\n",
      "    File \"/home/box/anaconda3/envs/DEEPLABCUT/lib/python3.8/asyncio/base_events.py\", line 570, in run_forever\n",
      "      self._run_once()\n",
      "    File \"/home/box/anaconda3/envs/DEEPLABCUT/lib/python3.8/asyncio/base_events.py\", line 1859, in _run_once\n",
      "      handle._run()\n",
      "    File \"/home/box/anaconda3/envs/DEEPLABCUT/lib/python3.8/asyncio/events.py\", line 81, in _run\n",
      "      self._context.run(self._callback, *self._args)\n",
      "    File \"/home/box/anaconda3/envs/DEEPLABCUT/lib/python3.8/site-packages/ipykernel/kernelbase.py\", line 545, in dispatch_queue\n",
      "      await self.process_one()\n",
      "    File \"/home/box/anaconda3/envs/DEEPLABCUT/lib/python3.8/site-packages/ipykernel/kernelbase.py\", line 534, in process_one\n",
      "      await dispatch(*args)\n",
      "    File \"/home/box/anaconda3/envs/DEEPLABCUT/lib/python3.8/site-packages/ipykernel/kernelbase.py\", line 437, in dispatch_shell\n",
      "      await result\n",
      "    File \"/home/box/anaconda3/envs/DEEPLABCUT/lib/python3.8/site-packages/ipykernel/ipkernel.py\", line 359, in execute_request\n",
      "      await super().execute_request(stream, ident, parent)\n",
      "    File \"/home/box/anaconda3/envs/DEEPLABCUT/lib/python3.8/site-packages/ipykernel/kernelbase.py\", line 778, in execute_request\n",
      "      reply_content = await reply_content\n",
      "    File \"/home/box/anaconda3/envs/DEEPLABCUT/lib/python3.8/site-packages/ipykernel/ipkernel.py\", line 446, in do_execute\n",
      "      res = shell.run_cell(\n",
      "    File \"/home/box/anaconda3/envs/DEEPLABCUT/lib/python3.8/site-packages/ipykernel/zmqshell.py\", line 549, in run_cell\n",
      "      return super().run_cell(*args, **kwargs)\n",
      "    File \"/home/box/anaconda3/envs/DEEPLABCUT/lib/python3.8/site-packages/IPython/core/interactiveshell.py\", line 3009, in run_cell\n",
      "      result = self._run_cell(\n",
      "    File \"/home/box/anaconda3/envs/DEEPLABCUT/lib/python3.8/site-packages/IPython/core/interactiveshell.py\", line 3064, in _run_cell\n",
      "      result = runner(coro)\n",
      "    File \"/home/box/anaconda3/envs/DEEPLABCUT/lib/python3.8/site-packages/IPython/core/async_helpers.py\", line 129, in _pseudo_sync_runner\n",
      "      coro.send(None)\n",
      "    File \"/home/box/anaconda3/envs/DEEPLABCUT/lib/python3.8/site-packages/IPython/core/interactiveshell.py\", line 3269, in run_cell_async\n",
      "      has_raised = await self.run_ast_nodes(code_ast.body, cell_name,\n",
      "    File \"/home/box/anaconda3/envs/DEEPLABCUT/lib/python3.8/site-packages/IPython/core/interactiveshell.py\", line 3448, in run_ast_nodes\n",
      "      if await self.run_code(code, result, async_=asy):\n",
      "    File \"/home/box/anaconda3/envs/DEEPLABCUT/lib/python3.8/site-packages/IPython/core/interactiveshell.py\", line 3508, in run_code\n",
      "      exec(code_obj, self.user_global_ns, self.user_ns)\n",
      "    File \"/tmp/ipykernel_58773/4100767533.py\", line 1, in <module>\n",
      "      deeplabcut.train_network(config_path, displayiters=300,saveiters=5000, maxiters=15000)\n",
      "    File \"/home/box/anaconda3/envs/DEEPLABCUT/lib/python3.8/site-packages/deeplabcut/pose_estimation_tensorflow/training.py\", line 273, in train_network\n",
      "      train(\n",
      "    File \"/home/box/anaconda3/envs/DEEPLABCUT/lib/python3.8/site-packages/deeplabcut/pose_estimation_tensorflow/core/train.py\", line 172, in train\n",
      "      batch, enqueue_op, placeholders = setup_preloading(batch_spec)\n",
      "    File \"/home/box/anaconda3/envs/DEEPLABCUT/lib/python3.8/site-packages/deeplabcut/pose_estimation_tensorflow/core/train.py\", line 72, in setup_preloading\n",
      "      enqueue_op = q.enqueue(placeholders_list)\n",
      "Node: 'fifo_queue_enqueue'\n",
      "Enqueue operation was cancelled\n",
      "\t [[{{node fifo_queue_enqueue}}]]\n",
      "\n",
      "Original stack trace for 'fifo_queue_enqueue':\n",
      "  File \"/home/box/anaconda3/envs/DEEPLABCUT/lib/python3.8/runpy.py\", line 194, in _run_module_as_main\n",
      "    return _run_code(code, main_globals, None,\n",
      "  File \"/home/box/anaconda3/envs/DEEPLABCUT/lib/python3.8/runpy.py\", line 87, in _run_code\n",
      "    exec(code, run_globals)\n",
      "  File \"/home/box/anaconda3/envs/DEEPLABCUT/lib/python3.8/site-packages/ipykernel_launcher.py\", line 18, in <module>\n",
      "    app.launch_new_instance()\n",
      "  File \"/home/box/anaconda3/envs/DEEPLABCUT/lib/python3.8/site-packages/traitlets/config/application.py\", line 1075, in launch_instance\n",
      "    app.start()\n",
      "  File \"/home/box/anaconda3/envs/DEEPLABCUT/lib/python3.8/site-packages/ipykernel/kernelapp.py\", line 739, in start\n",
      "    self.io_loop.start()\n",
      "  File \"/home/box/anaconda3/envs/DEEPLABCUT/lib/python3.8/site-packages/tornado/platform/asyncio.py\", line 205, in start\n",
      "    self.asyncio_loop.run_forever()\n",
      "  File \"/home/box/anaconda3/envs/DEEPLABCUT/lib/python3.8/asyncio/base_events.py\", line 570, in run_forever\n",
      "    self._run_once()\n",
      "  File \"/home/box/anaconda3/envs/DEEPLABCUT/lib/python3.8/asyncio/base_events.py\", line 1859, in _run_once\n",
      "    handle._run()\n",
      "  File \"/home/box/anaconda3/envs/DEEPLABCUT/lib/python3.8/asyncio/events.py\", line 81, in _run\n",
      "    self._context.run(self._callback, *self._args)\n",
      "  File \"/home/box/anaconda3/envs/DEEPLABCUT/lib/python3.8/site-packages/ipykernel/kernelbase.py\", line 545, in dispatch_queue\n",
      "    await self.process_one()\n",
      "  File \"/home/box/anaconda3/envs/DEEPLABCUT/lib/python3.8/site-packages/ipykernel/kernelbase.py\", line 534, in process_one\n",
      "    await dispatch(*args)\n",
      "  File \"/home/box/anaconda3/envs/DEEPLABCUT/lib/python3.8/site-packages/ipykernel/kernelbase.py\", line 437, in dispatch_shell\n",
      "    await result\n",
      "  File \"/home/box/anaconda3/envs/DEEPLABCUT/lib/python3.8/site-packages/ipykernel/ipkernel.py\", line 359, in execute_request\n",
      "    await super().execute_request(stream, ident, parent)\n",
      "  File \"/home/box/anaconda3/envs/DEEPLABCUT/lib/python3.8/site-packages/ipykernel/kernelbase.py\", line 778, in execute_request\n",
      "    reply_content = await reply_content\n",
      "  File \"/home/box/anaconda3/envs/DEEPLABCUT/lib/python3.8/site-packages/ipykernel/ipkernel.py\", line 446, in do_execute\n",
      "    res = shell.run_cell(\n",
      "  File \"/home/box/anaconda3/envs/DEEPLABCUT/lib/python3.8/site-packages/ipykernel/zmqshell.py\", line 549, in run_cell\n",
      "    return super().run_cell(*args, **kwargs)\n",
      "  File \"/home/box/anaconda3/envs/DEEPLABCUT/lib/python3.8/site-packages/IPython/core/interactiveshell.py\", line 3009, in run_cell\n",
      "    result = self._run_cell(\n",
      "  File \"/home/box/anaconda3/envs/DEEPLABCUT/lib/python3.8/site-packages/IPython/core/interactiveshell.py\", line 3064, in _run_cell\n",
      "    result = runner(coro)\n",
      "  File \"/home/box/anaconda3/envs/DEEPLABCUT/lib/python3.8/site-packages/IPython/core/async_helpers.py\", line 129, in _pseudo_sync_runner\n",
      "    coro.send(None)\n",
      "  File \"/home/box/anaconda3/envs/DEEPLABCUT/lib/python3.8/site-packages/IPython/core/interactiveshell.py\", line 3269, in run_cell_async\n",
      "    has_raised = await self.run_ast_nodes(code_ast.body, cell_name,\n",
      "  File \"/home/box/anaconda3/envs/DEEPLABCUT/lib/python3.8/site-packages/IPython/core/interactiveshell.py\", line 3448, in run_ast_nodes\n",
      "    if await self.run_code(code, result, async_=asy):\n",
      "  File \"/home/box/anaconda3/envs/DEEPLABCUT/lib/python3.8/site-packages/IPython/core/interactiveshell.py\", line 3508, in run_code\n",
      "    exec(code_obj, self.user_global_ns, self.user_ns)\n",
      "  File \"/tmp/ipykernel_58773/4100767533.py\", line 1, in <module>\n",
      "    deeplabcut.train_network(config_path, displayiters=300,saveiters=5000, maxiters=15000)\n",
      "  File \"/home/box/anaconda3/envs/DEEPLABCUT/lib/python3.8/site-packages/deeplabcut/pose_estimation_tensorflow/training.py\", line 273, in train_network\n",
      "    train(\n",
      "  File \"/home/box/anaconda3/envs/DEEPLABCUT/lib/python3.8/site-packages/deeplabcut/pose_estimation_tensorflow/core/train.py\", line 172, in train\n",
      "    batch, enqueue_op, placeholders = setup_preloading(batch_spec)\n",
      "  File \"/home/box/anaconda3/envs/DEEPLABCUT/lib/python3.8/site-packages/deeplabcut/pose_estimation_tensorflow/core/train.py\", line 72, in setup_preloading\n",
      "    enqueue_op = q.enqueue(placeholders_list)\n",
      "  File \"/home/box/anaconda3/envs/DEEPLABCUT/lib/python3.8/site-packages/tensorflow/python/ops/data_flow_ops.py\", line 346, in enqueue\n",
      "    return gen_data_flow_ops.queue_enqueue_v2(\n",
      "  File \"/home/box/anaconda3/envs/DEEPLABCUT/lib/python3.8/site-packages/tensorflow/python/ops/gen_data_flow_ops.py\", line 4068, in queue_enqueue_v2\n",
      "    _, _, _op, _outputs = _op_def_library._apply_op_helper(\n",
      "  File \"/home/box/anaconda3/envs/DEEPLABCUT/lib/python3.8/site-packages/tensorflow/python/framework/op_def_library.py\", line 795, in _apply_op_helper\n",
      "    op = g._create_op_internal(op_type_name, inputs, dtypes=None,\n",
      "  File \"/home/box/anaconda3/envs/DEEPLABCUT/lib/python3.8/site-packages/tensorflow/python/framework/ops.py\", line 3814, in _create_op_internal\n",
      "    ret = Operation(\n",
      "\n"
     ]
    },
    {
     "name": "stdout",
     "output_type": "stream",
     "text": [
      "The network is now trained and ready to evaluate. Use the function 'evaluate_network' to evaluate the network.\n"
     ]
    }
   ],
   "source": [
    "deeplabcut.train_network(config_path, displayiters=300,saveiters=5000, maxiters=15000)"
   ]
  },
  {
   "cell_type": "code",
   "execution_count": 39,
   "metadata": {},
   "outputs": [
    {
     "name": "stderr",
     "output_type": "stream",
     "text": [
      "Config:\n",
      "{'all_joints': [[0], [1], [2], [3], [4], [5], [6], [7], [8]],\n",
      " 'all_joints_names': ['nose',\n",
      "                      'ear_left',\n",
      "                      'ear_right',\n",
      "                      'tail_base',\n",
      "                      'lever_tip',\n",
      "                      'upper_lever_tip',\n",
      "                      'stick_head',\n",
      "                      'ball',\n",
      "                      'sliding_door'],\n",
      " 'batch_size': 1,\n",
      " 'crop_pad': 0,\n",
      " 'dataset': 'training-datasets/iteration-0/UnaugmentedDataSet_MousedMay18/Moused_David90shuffle1.mat',\n",
      " 'dataset_type': 'imgaug',\n",
      " 'deterministic': False,\n",
      " 'fg_fraction': 0.25,\n",
      " 'global_scale': 0.8,\n",
      " 'init_weights': '/home/box/anaconda3/envs/DEEPLABCUT/lib/python3.8/site-packages/deeplabcut/pose_estimation_tensorflow/models/pretrained/resnet_v1_50.ckpt',\n",
      " 'intermediate_supervision': False,\n",
      " 'intermediate_supervision_layer': 12,\n",
      " 'location_refinement': True,\n",
      " 'locref_huber_loss': True,\n",
      " 'locref_loss_weight': 1.0,\n",
      " 'locref_stdev': 7.2801,\n",
      " 'log_dir': 'log',\n",
      " 'mean_pixel': [123.68, 116.779, 103.939],\n",
      " 'mirror': False,\n",
      " 'net_type': 'resnet_50',\n",
      " 'num_joints': 9,\n",
      " 'optimizer': 'sgd',\n",
      " 'pairwise_huber_loss': True,\n",
      " 'pairwise_predict': False,\n",
      " 'partaffinityfield_predict': False,\n",
      " 'regularize': False,\n",
      " 'scoremap_dir': 'test',\n",
      " 'shuffle': True,\n",
      " 'snapshot_prefix': '/home/box/coding/CTIR/Moused-David-2024-05-18/dlc-models/iteration-0/MousedMay18-trainset90shuffle1/test/snapshot',\n",
      " 'stride': 8.0,\n",
      " 'weigh_negatives': False,\n",
      " 'weigh_only_present_joints': False,\n",
      " 'weigh_part_predictions': False,\n",
      " 'weight_decay': 0.0001}\n",
      "Config:\n",
      "{'all_joints': [[0], [1], [2], [3], [4], [5], [6], [7], [8]],\n",
      " 'all_joints_names': ['nose',\n",
      "                      'ear_left',\n",
      "                      'ear_right',\n",
      "                      'tail_base',\n",
      "                      'lever_tip',\n",
      "                      'upper_lever_tip',\n",
      "                      'stick_head',\n",
      "                      'ball',\n",
      "                      'sliding_door'],\n",
      " 'alpha_r': 0.02,\n",
      " 'apply_prob': 0.5,\n",
      " 'batch_size': 1,\n",
      " 'contrast': {'clahe': True,\n",
      "              'claheratio': 0.1,\n",
      "              'histeq': True,\n",
      "              'histeqratio': 0.1},\n",
      " 'convolution': {'edge': False,\n",
      "                 'emboss': {'alpha': [0.0, 1.0], 'strength': [0.5, 1.5]},\n",
      "                 'embossratio': 0.1,\n",
      "                 'sharpen': False,\n",
      "                 'sharpenratio': 0.3},\n",
      " 'crop_pad': 0,\n",
      " 'cropratio': 0.4,\n",
      " 'dataset': 'training-datasets/iteration-0/UnaugmentedDataSet_MousedMay18/Moused_David90shuffle1.mat',\n",
      " 'dataset_type': 'imgaug',\n",
      " 'decay_steps': 30000,\n",
      " 'deterministic': False,\n",
      " 'display_iters': 1000,\n",
      " 'fg_fraction': 0.25,\n",
      " 'global_scale': 0.8,\n",
      " 'init_weights': '/home/box/anaconda3/envs/DEEPLABCUT/lib/python3.8/site-packages/deeplabcut/pose_estimation_tensorflow/models/pretrained/resnet_v1_50.ckpt',\n",
      " 'intermediate_supervision': False,\n",
      " 'intermediate_supervision_layer': 12,\n",
      " 'location_refinement': True,\n",
      " 'locref_huber_loss': True,\n",
      " 'locref_loss_weight': 0.05,\n",
      " 'locref_stdev': 7.2801,\n",
      " 'log_dir': 'log',\n",
      " 'lr_init': 0.0005,\n",
      " 'max_input_size': 1500,\n",
      " 'mean_pixel': [123.68, 116.779, 103.939],\n",
      " 'metadataset': 'training-datasets/iteration-0/UnaugmentedDataSet_MousedMay18/Documentation_data-Moused_90shuffle1.pickle',\n",
      " 'min_input_size': 64,\n",
      " 'mirror': False,\n",
      " 'multi_stage': False,\n",
      " 'multi_step': [[0.005, 10000],\n",
      "                [0.02, 430000],\n",
      "                [0.002, 730000],\n",
      "                [0.001, 1030000]],\n",
      " 'net_type': 'resnet_50',\n",
      " 'num_joints': 9,\n",
      " 'optimizer': 'sgd',\n",
      " 'pairwise_huber_loss': False,\n",
      " 'pairwise_predict': False,\n",
      " 'partaffinityfield_predict': False,\n",
      " 'pos_dist_thresh': 17,\n",
      " 'project_path': '/home/box/coding/CTIR/Moused-David-2024-05-18',\n",
      " 'regularize': False,\n",
      " 'rotation': 25,\n",
      " 'rotratio': 0.4,\n",
      " 'save_iters': 50000,\n",
      " 'scale_jitter_lo': 0.5,\n",
      " 'scale_jitter_up': 1.25,\n",
      " 'scoremap_dir': 'test',\n",
      " 'shuffle': True,\n",
      " 'snapshot_prefix': '/home/box/coding/CTIR/Moused-David-2024-05-18/dlc-models/iteration-0/MousedMay18-trainset90shuffle1/train/snapshot',\n",
      " 'stride': 8.0,\n",
      " 'weigh_negatives': False,\n",
      " 'weigh_only_present_joints': False,\n",
      " 'weigh_part_predictions': False,\n",
      " 'weight_decay': 0.0001}\n",
      "/home/box/anaconda3/envs/DEEPLABCUT/lib/python3.8/site-packages/tensorflow/python/keras/engine/base_layer_v1.py:1694: UserWarning: `layer.apply` is deprecated and will be removed in a future version. Please use `layer.__call__` method instead.\n",
      "  warnings.warn('`layer.apply` is deprecated and '\n"
     ]
    },
    {
     "name": "stdout",
     "output_type": "stream",
     "text": [
      "Running  DLC_resnet50_MousedMay18shuffle1_15000  with # of training iterations: 15000\n"
     ]
    },
    {
     "name": "stderr",
     "output_type": "stream",
     "text": [
      "2024-05-19 10:51:04.665553: I tensorflow/compiler/xla/stream_executor/cuda/cuda_gpu_executor.cc:982] could not open file to read NUMA node: /sys/bus/pci/devices/0000:02:00.0/numa_node\n",
      "Your kernel may have been built without NUMA support.\n",
      "2024-05-19 10:51:04.665668: I tensorflow/compiler/xla/stream_executor/cuda/cuda_gpu_executor.cc:982] could not open file to read NUMA node: /sys/bus/pci/devices/0000:02:00.0/numa_node\n",
      "Your kernel may have been built without NUMA support.\n",
      "2024-05-19 10:51:04.665683: I tensorflow/compiler/xla/stream_executor/cuda/cuda_gpu_executor.cc:982] could not open file to read NUMA node: /sys/bus/pci/devices/0000:02:00.0/numa_node\n",
      "Your kernel may have been built without NUMA support.\n",
      "2024-05-19 10:51:04.665924: I tensorflow/compiler/xla/stream_executor/cuda/cuda_gpu_executor.cc:982] could not open file to read NUMA node: /sys/bus/pci/devices/0000:02:00.0/numa_node\n",
      "Your kernel may have been built without NUMA support.\n",
      "2024-05-19 10:51:04.665957: I tensorflow/core/common_runtime/gpu/gpu_device.cc:1722] Could not identify NUMA node of platform GPU id 0, defaulting to 0.  Your kernel may not have been built with NUMA support.\n",
      "2024-05-19 10:51:04.665983: I tensorflow/compiler/xla/stream_executor/cuda/cuda_gpu_executor.cc:982] could not open file to read NUMA node: /sys/bus/pci/devices/0000:02:00.0/numa_node\n",
      "Your kernel may have been built without NUMA support.\n",
      "2024-05-19 10:51:04.665998: I tensorflow/core/common_runtime/gpu/gpu_device.cc:1635] Created device /job:localhost/replica:0/task:0/device:GPU:0 with 13297 MB memory:  -> device: 0, name: NVIDIA GeForce RTX 4080 SUPER, pci bus id: 0000:02:00.0, compute capability: 8.9\n"
     ]
    },
    {
     "name": "stdout",
     "output_type": "stream",
     "text": [
      "Running evaluation ...\n"
     ]
    },
    {
     "name": "stderr",
     "output_type": "stream",
     "text": [
      "40it [00:01, 25.92it/s]\n"
     ]
    },
    {
     "name": "stdout",
     "output_type": "stream",
     "text": [
      "Analysis is done and the results are stored (see evaluation-results) for snapshot:  snapshot-15000\n",
      "Results for 15000  training iterations: 90 1 train error: 9.19 pixels. Test error: 67.89  pixels.\n",
      "With pcutoff of 0.6  train error: 9.08 pixels. Test error: 58.34 pixels\n",
      "Thereby, the errors are given by the average distances between the labels by DLC and the scorer.\n",
      "Plotting...\n"
     ]
    },
    {
     "name": "stderr",
     "output_type": "stream",
     "text": [
      "100%|██████████| 40/40 [00:07<00:00,  5.66it/s]"
     ]
    },
    {
     "name": "stdout",
     "output_type": "stream",
     "text": [
      "The network is evaluated and the results are stored in the subdirectory 'evaluation_results'.\n",
      "Please check the results, then choose the best model (snapshot) for prediction. You can update the config.yaml file with the appropriate index for the 'snapshotindex'.\n",
      "Use the function 'analyze_video' to make predictions on new videos.\n",
      "Otherwise, consider adding more labeled-data and retraining the network (see DeepLabCut workflow Fig 2, Nath 2019)\n"
     ]
    },
    {
     "name": "stderr",
     "output_type": "stream",
     "text": [
      "\n"
     ]
    },
    {
     "data": {
      "image/png": "[encoded data removed]",
      "text/plain": [
       "<Figure size 968x608 with 1 Axes>"
      ]
     },
     "metadata": {},
     "output_type": "display_data"
    }
   ],
   "source": [
    "deeplabcut.evaluate_network(config_path,plotting=True)"
   ]
  },
  {
   "cell_type": "code",
   "execution_count": 42,
   "metadata": {},
   "outputs": [],
   "source": [
    "video_path = '/home/box/coding/CTIR/videos/experiment_1/E1_top.avi'\n",
    "video_paths = ['/home/box/coding/CTIR/videos/experiment_1/E1_side.avi','/home/box/coding/CTIR/videos/experiment_1/E1_front.avi','/home/box/coding/CTIR/videos/experiment_1/E1_top.avi',\n",
    "               '/home/box/coding/CTIR/videos/experiment_2/E2_side.avi','/home/box/coding/CTIR/videos/experiment_2/E2_front.avi','/home/box/coding/CTIR/videos/experiment_2/E2_top.avi']"
   ]
  },
  {
   "cell_type": "code",
   "execution_count": 43,
   "metadata": {},
   "outputs": [
    {
     "name": "stderr",
     "output_type": "stream",
     "text": [
      "Config:\n",
      "{'all_joints': [[0], [1], [2], [3], [4], [5], [6], [7], [8]],\n",
      " 'all_joints_names': ['nose',\n",
      "                      'ear_left',\n",
      "                      'ear_right',\n",
      "                      'tail_base',\n",
      "                      'lever_tip',\n",
      "                      'upper_lever_tip',\n",
      "                      'stick_head',\n",
      "                      'ball',\n",
      "                      'sliding_door'],\n",
      " 'batch_size': 1,\n",
      " 'crop_pad': 0,\n",
      " 'dataset': 'training-datasets/iteration-0/UnaugmentedDataSet_MousedMay18/Moused_David90shuffle1.mat',\n",
      " 'dataset_type': 'imgaug',\n",
      " 'deterministic': False,\n",
      " 'fg_fraction': 0.25,\n",
      " 'global_scale': 0.8,\n",
      " 'init_weights': '/home/box/anaconda3/envs/DEEPLABCUT/lib/python3.8/site-packages/deeplabcut/pose_estimation_tensorflow/models/pretrained/resnet_v1_50.ckpt',\n",
      " 'intermediate_supervision': False,\n",
      " 'intermediate_supervision_layer': 12,\n",
      " 'location_refinement': True,\n",
      " 'locref_huber_loss': True,\n",
      " 'locref_loss_weight': 1.0,\n",
      " 'locref_stdev': 7.2801,\n",
      " 'log_dir': 'log',\n",
      " 'mean_pixel': [123.68, 116.779, 103.939],\n",
      " 'mirror': False,\n",
      " 'net_type': 'resnet_50',\n",
      " 'num_joints': 9,\n",
      " 'optimizer': 'sgd',\n",
      " 'pairwise_huber_loss': True,\n",
      " 'pairwise_predict': False,\n",
      " 'partaffinityfield_predict': False,\n",
      " 'regularize': False,\n",
      " 'scoremap_dir': 'test',\n",
      " 'shuffle': True,\n",
      " 'snapshot_prefix': '/home/box/coding/CTIR/Moused-David-2024-05-18/dlc-models/iteration-0/MousedMay18-trainset90shuffle1/test/snapshot',\n",
      " 'stride': 8.0,\n",
      " 'weigh_negatives': False,\n",
      " 'weigh_only_present_joints': False,\n",
      " 'weigh_part_predictions': False,\n",
      " 'weight_decay': 0.0001}\n"
     ]
    },
    {
     "name": "stderr",
     "output_type": "stream",
     "text": [
      "/home/box/anaconda3/envs/DEEPLABCUT/lib/python3.8/site-packages/tensorflow/python/keras/engine/base_layer_v1.py:1694: UserWarning: `layer.apply` is deprecated and will be removed in a future version. Please use `layer.__call__` method instead.\n",
      "  warnings.warn('`layer.apply` is deprecated and '\n"
     ]
    },
    {
     "name": "stdout",
     "output_type": "stream",
     "text": [
      "Using snapshot-15000 for model /home/box/coding/CTIR/Moused-David-2024-05-18/dlc-models/iteration-0/MousedMay18-trainset90shuffle1\n"
     ]
    },
    {
     "name": "stderr",
     "output_type": "stream",
     "text": [
      "2024-05-19 11:05:01.988321: I tensorflow/compiler/xla/stream_executor/cuda/cuda_gpu_executor.cc:982] could not open file to read NUMA node: /sys/bus/pci/devices/0000:02:00.0/numa_node\n",
      "Your kernel may have been built without NUMA support.\n",
      "2024-05-19 11:05:01.988394: I tensorflow/compiler/xla/stream_executor/cuda/cuda_gpu_executor.cc:982] could not open file to read NUMA node: /sys/bus/pci/devices/0000:02:00.0/numa_node\n",
      "Your kernel may have been built without NUMA support.\n",
      "2024-05-19 11:05:01.988407: I tensorflow/compiler/xla/stream_executor/cuda/cuda_gpu_executor.cc:982] could not open file to read NUMA node: /sys/bus/pci/devices/0000:02:00.0/numa_node\n",
      "Your kernel may have been built without NUMA support.\n",
      "2024-05-19 11:05:01.988701: I tensorflow/compiler/xla/stream_executor/cuda/cuda_gpu_executor.cc:982] could not open file to read NUMA node: /sys/bus/pci/devices/0000:02:00.0/numa_node\n",
      "Your kernel may have been built without NUMA support.\n",
      "2024-05-19 11:05:01.988711: I tensorflow/core/common_runtime/gpu/gpu_device.cc:1722] Could not identify NUMA node of platform GPU id 0, defaulting to 0.  Your kernel may not have been built with NUMA support.\n",
      "2024-05-19 11:05:01.988728: I tensorflow/compiler/xla/stream_executor/cuda/cuda_gpu_executor.cc:982] could not open file to read NUMA node: /sys/bus/pci/devices/0000:02:00.0/numa_node\n",
      "Your kernel may have been built without NUMA support.\n",
      "2024-05-19 11:05:01.988743: I tensorflow/core/common_runtime/gpu/gpu_device.cc:1635] Created device /job:localhost/replica:0/task:0/device:GPU:0 with 13297 MB memory:  -> device: 0, name: NVIDIA GeForce RTX 4080 SUPER, pci bus id: 0000:02:00.0, compute capability: 8.9\n"
     ]
    },
    {
     "name": "stdout",
     "output_type": "stream",
     "text": [
      "Starting to analyze %  /home/box/coding/CTIR/videos/experiment_1/E1_front.avi\n",
      "Loading  /home/box/coding/CTIR/videos/experiment_1/E1_front.avi\n",
      "Duration of video [s]:  555.0 , recorded with  30.0 fps!\n",
      "Overall # of frames:  16650  found with (before cropping) frame dimensions:  968 608\n",
      "Starting to extract posture\n"
     ]
    },
    {
     "name": "stderr",
     "output_type": "stream",
     "text": [
      "100%|██████████| 16650/16650 [03:29<00:00, 79.43it/s]"
     ]
    },
    {
     "name": "stdout",
     "output_type": "stream",
     "text": [
      "Saving results in /home/box/coding/CTIR/videos/experiment_1...\n",
      "The videos are analyzed. Now your research can truly start! \n",
      " You can create labeled videos with 'create_labeled_video'\n",
      "If the tracking is not satisfactory for some videos, consider expanding the training set. You can use the function 'extract_outlier_frames' to extract a few representative outlier frames.\n"
     ]
    },
    {
     "name": "stderr",
     "output_type": "stream",
     "text": [
      "\n"
     ]
    },
    {
     "name": "stdout",
     "output_type": "stream",
     "text": [
      "Starting to process video: /home/box/coding/CTIR/videos/experiment_1/E1_front.avi\n",
      "Loading /home/box/coding/CTIR/videos/experiment_1/E1_front.avi and data.\n",
      "Duration of video [s]: 555.0, recorded with 30.0 fps!\n",
      "Overall # of frames: 16650 with cropped frame dimensions: 968 608\n",
      "Generating frames and creating video.\n"
     ]
    },
    {
     "name": "stderr",
     "output_type": "stream",
     "text": [
      "100%|██████████| 16650/16650 [01:04<00:00, 256.37it/s]\n"
     ]
    },
    {
     "data": {
      "text/plain": [
       "[True]"
      ]
     },
     "execution_count": 43,
     "metadata": {},
     "output_type": "execute_result"
    }
   ],
   "source": [
    "deeplabcut.analyze_videos(config_path,video_path)\n",
    "deeplabcut.create_labeled_video(config_path,video_path)"
   ]
  },
  {
   "cell_type": "code",
   "execution_count": null,
   "metadata": {},
   "outputs": [],
   "source": []
  },
  {
   "cell_type": "code",
   "execution_count": null,
   "metadata": {},
   "outputs": [],
   "source": []
  },
  {
   "cell_type": "code",
   "execution_count": null,
   "metadata": {},
   "outputs": [],
   "source": []
  }
 ],
 "metadata": {
  "kernelspec": {
   "display_name": "DEEPLABCUT",
   "language": "python",
   "name": "python3"
  },
  "language_info": {
   "codemirror_mode": {
    "name": "ipython",
    "version": 3
   },
   "file_extension": ".py",
   "mimetype": "text/x-python",
   "name": "python",
   "nbconvert_exporter": "python",
   "pygments_lexer": "ipython3",
   "version": "3.8.19"
  }
 },
 "nbformat": 4,
 "nbformat_minor": 2
}
